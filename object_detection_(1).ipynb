{
  "nbformat": 4,
  "nbformat_minor": 0,
  "metadata": {
    "accelerator": "GPU",
    "colab": {
      "name": "object_detection (1).ipynb",
      "provenance": [],
      "collapsed_sections": []
    },
    "kernelspec": {
      "display_name": "Python 3",
      "language": "python",
      "name": "python3"
    },
    "language_info": {
      "codemirror_mode": {
        "name": "ipython",
        "version": 3
      },
      "file_extension": ".py",
      "mimetype": "text/x-python",
      "name": "python",
      "nbconvert_exporter": "python",
      "pygments_lexer": "ipython3",
      "version": "3.8.4"
    }
  },
  "cells": [
    {
      "cell_type": "code",
      "metadata": {
        "id": "a3oHKsyCB9Jc",
        "outputId": "ddd64109-d84c-4fef-86b6-ac661b77de7d",
        "colab": {
          "base_uri": "https://localhost:8080/",
          "height": 1000
        }
      },
      "source": [
        "# Depending on your hardware specs install either tensorflow (CPU) or tensorflow_gpu (GPU) version\n",
        "\n",
        "# In this notebook, we use tensorflow_gpu. Make sure that GPU hardware acceleration is enabled in your Google Colab notebook\n",
        "# by checking \"Runtime -> Change runtime type\" and selecting \"GPU accelerator\"\n",
        "!pip install tensorflow-gpu\n",
        "\n",
        "# Install Trains open-source experiment management tool that will help us in performing model comparison.\n",
        "!pip install trains"
      ],
      "execution_count": null,
      "outputs": [
        {
          "output_type": "stream",
          "text": [
            "Collecting tensorflow-gpu\n",
            "\u001b[?25l  Downloading https://files.pythonhosted.org/packages/18/99/ac32fd13d56e40d4c3e6150030132519997c0bb1f06f448d970e81b177e5/tensorflow_gpu-2.3.1-cp36-cp36m-manylinux2010_x86_64.whl (320.4MB)\n",
            "\u001b[K     |████████████████████████████████| 320.4MB 49kB/s \n",
            "\u001b[?25hRequirement already satisfied: keras-preprocessing<1.2,>=1.1.1 in /usr/local/lib/python3.6/dist-packages (from tensorflow-gpu) (1.1.2)\n",
            "Requirement already satisfied: google-pasta>=0.1.8 in /usr/local/lib/python3.6/dist-packages (from tensorflow-gpu) (0.2.0)\n",
            "Requirement already satisfied: astunparse==1.6.3 in /usr/local/lib/python3.6/dist-packages (from tensorflow-gpu) (1.6.3)\n",
            "Requirement already satisfied: wrapt>=1.11.1 in /usr/local/lib/python3.6/dist-packages (from tensorflow-gpu) (1.12.1)\n",
            "Requirement already satisfied: numpy<1.19.0,>=1.16.0 in /usr/local/lib/python3.6/dist-packages (from tensorflow-gpu) (1.18.5)\n",
            "Requirement already satisfied: protobuf>=3.9.2 in /usr/local/lib/python3.6/dist-packages (from tensorflow-gpu) (3.12.4)\n",
            "Requirement already satisfied: grpcio>=1.8.6 in /usr/local/lib/python3.6/dist-packages (from tensorflow-gpu) (1.32.0)\n",
            "Requirement already satisfied: absl-py>=0.7.0 in /usr/local/lib/python3.6/dist-packages (from tensorflow-gpu) (0.10.0)\n",
            "Requirement already satisfied: tensorboard<3,>=2.3.0 in /usr/local/lib/python3.6/dist-packages (from tensorflow-gpu) (2.3.0)\n",
            "Requirement already satisfied: tensorflow-estimator<2.4.0,>=2.3.0 in /usr/local/lib/python3.6/dist-packages (from tensorflow-gpu) (2.3.0)\n",
            "Requirement already satisfied: h5py<2.11.0,>=2.10.0 in /usr/local/lib/python3.6/dist-packages (from tensorflow-gpu) (2.10.0)\n",
            "Requirement already satisfied: opt-einsum>=2.3.2 in /usr/local/lib/python3.6/dist-packages (from tensorflow-gpu) (3.3.0)\n",
            "Requirement already satisfied: termcolor>=1.1.0 in /usr/local/lib/python3.6/dist-packages (from tensorflow-gpu) (1.1.0)\n",
            "Requirement already satisfied: gast==0.3.3 in /usr/local/lib/python3.6/dist-packages (from tensorflow-gpu) (0.3.3)\n",
            "Requirement already satisfied: wheel>=0.26 in /usr/local/lib/python3.6/dist-packages (from tensorflow-gpu) (0.35.1)\n",
            "Requirement already satisfied: six>=1.12.0 in /usr/local/lib/python3.6/dist-packages (from tensorflow-gpu) (1.15.0)\n",
            "Requirement already satisfied: setuptools in /usr/local/lib/python3.6/dist-packages (from protobuf>=3.9.2->tensorflow-gpu) (50.3.0)\n",
            "Requirement already satisfied: werkzeug>=0.11.15 in /usr/local/lib/python3.6/dist-packages (from tensorboard<3,>=2.3.0->tensorflow-gpu) (1.0.1)\n",
            "Requirement already satisfied: google-auth-oauthlib<0.5,>=0.4.1 in /usr/local/lib/python3.6/dist-packages (from tensorboard<3,>=2.3.0->tensorflow-gpu) (0.4.1)\n",
            "Requirement already satisfied: markdown>=2.6.8 in /usr/local/lib/python3.6/dist-packages (from tensorboard<3,>=2.3.0->tensorflow-gpu) (3.2.2)\n",
            "Requirement already satisfied: tensorboard-plugin-wit>=1.6.0 in /usr/local/lib/python3.6/dist-packages (from tensorboard<3,>=2.3.0->tensorflow-gpu) (1.7.0)\n",
            "Requirement already satisfied: requests<3,>=2.21.0 in /usr/local/lib/python3.6/dist-packages (from tensorboard<3,>=2.3.0->tensorflow-gpu) (2.23.0)\n",
            "Requirement already satisfied: google-auth<2,>=1.6.3 in /usr/local/lib/python3.6/dist-packages (from tensorboard<3,>=2.3.0->tensorflow-gpu) (1.17.2)\n",
            "Requirement already satisfied: requests-oauthlib>=0.7.0 in /usr/local/lib/python3.6/dist-packages (from google-auth-oauthlib<0.5,>=0.4.1->tensorboard<3,>=2.3.0->tensorflow-gpu) (1.3.0)\n",
            "Requirement already satisfied: importlib-metadata; python_version < \"3.8\" in /usr/local/lib/python3.6/dist-packages (from markdown>=2.6.8->tensorboard<3,>=2.3.0->tensorflow-gpu) (2.0.0)\n",
            "Requirement already satisfied: certifi>=2017.4.17 in /usr/local/lib/python3.6/dist-packages (from requests<3,>=2.21.0->tensorboard<3,>=2.3.0->tensorflow-gpu) (2020.6.20)\n",
            "Requirement already satisfied: chardet<4,>=3.0.2 in /usr/local/lib/python3.6/dist-packages (from requests<3,>=2.21.0->tensorboard<3,>=2.3.0->tensorflow-gpu) (3.0.4)\n",
            "Requirement already satisfied: idna<3,>=2.5 in /usr/local/lib/python3.6/dist-packages (from requests<3,>=2.21.0->tensorboard<3,>=2.3.0->tensorflow-gpu) (2.10)\n",
            "Requirement already satisfied: urllib3!=1.25.0,!=1.25.1,<1.26,>=1.21.1 in /usr/local/lib/python3.6/dist-packages (from requests<3,>=2.21.0->tensorboard<3,>=2.3.0->tensorflow-gpu) (1.24.3)\n",
            "Requirement already satisfied: pyasn1-modules>=0.2.1 in /usr/local/lib/python3.6/dist-packages (from google-auth<2,>=1.6.3->tensorboard<3,>=2.3.0->tensorflow-gpu) (0.2.8)\n",
            "Requirement already satisfied: cachetools<5.0,>=2.0.0 in /usr/local/lib/python3.6/dist-packages (from google-auth<2,>=1.6.3->tensorboard<3,>=2.3.0->tensorflow-gpu) (4.1.1)\n",
            "Requirement already satisfied: rsa<5,>=3.1.4; python_version >= \"3\" in /usr/local/lib/python3.6/dist-packages (from google-auth<2,>=1.6.3->tensorboard<3,>=2.3.0->tensorflow-gpu) (4.6)\n",
            "Requirement already satisfied: oauthlib>=3.0.0 in /usr/local/lib/python3.6/dist-packages (from requests-oauthlib>=0.7.0->google-auth-oauthlib<0.5,>=0.4.1->tensorboard<3,>=2.3.0->tensorflow-gpu) (3.1.0)\n",
            "Requirement already satisfied: zipp>=0.5 in /usr/local/lib/python3.6/dist-packages (from importlib-metadata; python_version < \"3.8\"->markdown>=2.6.8->tensorboard<3,>=2.3.0->tensorflow-gpu) (3.2.0)\n",
            "Requirement already satisfied: pyasn1<0.5.0,>=0.4.6 in /usr/local/lib/python3.6/dist-packages (from pyasn1-modules>=0.2.1->google-auth<2,>=1.6.3->tensorboard<3,>=2.3.0->tensorflow-gpu) (0.4.8)\n",
            "Installing collected packages: tensorflow-gpu\n",
            "Successfully installed tensorflow-gpu-2.3.1\n",
            "Collecting trains\n",
            "\u001b[?25l  Downloading https://files.pythonhosted.org/packages/41/98/e02c4577f83ffd7b0a9dbe6422969278ab663f07fa3f6001c319d03953ac/trains-0.16.2-py2.py3-none-any.whl (790kB)\n",
            "\u001b[K     |████████████████████████████████| 798kB 11.3MB/s \n",
            "\u001b[?25hCollecting funcsigs>=1.0\n",
            "  Downloading https://files.pythonhosted.org/packages/69/cb/f5be453359271714c01b9bd06126eaf2e368f1fddfff30818754b5ac2328/funcsigs-1.0.2-py2.py3-none-any.whl\n",
            "Requirement already satisfied: jsonschema>=2.6.0 in /usr/local/lib/python3.6/dist-packages (from trains) (2.6.0)\n",
            "Requirement already satisfied: pyparsing>=2.0.3 in /usr/local/lib/python3.6/dist-packages (from trains) (2.4.7)\n",
            "Collecting humanfriendly>=2.1\n",
            "\u001b[?25l  Downloading https://files.pythonhosted.org/packages/8e/2d/2f1b0a780b8c948c06c74c8c80e68ac354da52397ba432a1c5ac1923c3af/humanfriendly-8.2-py2.py3-none-any.whl (86kB)\n",
            "\u001b[K     |████████████████████████████████| 92kB 12.9MB/s \n",
            "\u001b[?25hCollecting requests-file>=1.4.2\n",
            "  Downloading https://files.pythonhosted.org/packages/77/86/cdb5e8eaed90796aa83a6d9f75cfbd37af553c47a291cd47bc410ef9bdb2/requests_file-1.5.1-py2.py3-none-any.whl\n",
            "Requirement already satisfied: Pillow>=4.1.1 in /usr/local/lib/python3.6/dist-packages (from trains) (7.0.0)\n",
            "Requirement already satisfied: psutil>=3.4.2 in /usr/local/lib/python3.6/dist-packages (from trains) (5.4.8)\n",
            "Requirement already satisfied: tqdm>=4.19.5 in /usr/local/lib/python3.6/dist-packages (from trains) (4.41.1)\n",
            "Requirement already satisfied: numpy>=1.10 in /usr/local/lib/python3.6/dist-packages (from trains) (1.18.5)\n",
            "Requirement already satisfied: attrs>=18.0 in /usr/local/lib/python3.6/dist-packages (from trains) (20.2.0)\n",
            "Requirement already satisfied: PyYAML>=3.12 in /usr/local/lib/python3.6/dist-packages (from trains) (3.13)\n",
            "Requirement already satisfied: requests>=2.20.0 in /usr/local/lib/python3.6/dist-packages (from trains) (2.23.0)\n",
            "Collecting furl>=2.0.0\n",
            "  Downloading https://files.pythonhosted.org/packages/9f/c7/e9dc30914bf048bcd06284bb93d9650d318ecac8668b684fc41e975558ff/furl-2.1.0-py2.py3-none-any.whl\n",
            "Requirement already satisfied: six>=1.11.0 in /usr/local/lib/python3.6/dist-packages (from trains) (1.15.0)\n",
            "Requirement already satisfied: future>=0.16.0 in /usr/local/lib/python3.6/dist-packages (from trains) (0.16.0)\n",
            "Collecting pathlib2>=2.3.0\n",
            "  Downloading https://files.pythonhosted.org/packages/e9/45/9c82d3666af4ef9f221cbb954e1d77ddbb513faf552aea6df5f37f1a4859/pathlib2-2.3.5-py2.py3-none-any.whl\n",
            "Requirement already satisfied: python-dateutil>=2.6.1 in /usr/local/lib/python3.6/dist-packages (from trains) (2.8.1)\n",
            "Requirement already satisfied: urllib3>=1.21.1 in /usr/local/lib/python3.6/dist-packages (from trains) (1.24.3)\n",
            "Collecting pyjwt>=1.6.4\n",
            "  Downloading https://files.pythonhosted.org/packages/87/8b/6a9f14b5f781697e51259d81657e6048fd31a113229cf346880bb7545565/PyJWT-1.7.1-py2.py3-none-any.whl\n",
            "Requirement already satisfied: plotly>=3.9.0 in /usr/local/lib/python3.6/dist-packages (from trains) (4.4.1)\n",
            "Requirement already satisfied: certifi>=2017.4.17 in /usr/local/lib/python3.6/dist-packages (from requests>=2.20.0->trains) (2020.6.20)\n",
            "Requirement already satisfied: idna<3,>=2.5 in /usr/local/lib/python3.6/dist-packages (from requests>=2.20.0->trains) (2.10)\n",
            "Requirement already satisfied: chardet<4,>=3.0.2 in /usr/local/lib/python3.6/dist-packages (from requests>=2.20.0->trains) (3.0.4)\n",
            "Collecting orderedmultidict>=1.0.1\n",
            "  Downloading https://files.pythonhosted.org/packages/04/16/5e95c70bda8fe6ea715005c0db8e602400bdba50ae3c72cb380eba551289/orderedmultidict-1.0.1-py2.py3-none-any.whl\n",
            "Requirement already satisfied: retrying>=1.3.3 in /usr/local/lib/python3.6/dist-packages (from plotly>=3.9.0->trains) (1.3.3)\n",
            "Installing collected packages: funcsigs, humanfriendly, requests-file, orderedmultidict, furl, pathlib2, pyjwt, trains\n",
            "Successfully installed funcsigs-1.0.2 furl-2.1.0 humanfriendly-8.2 orderedmultidict-1.0.1 pathlib2-2.3.5 pyjwt-1.7.1 requests-file-1.5.1 trains-0.16.2\n"
          ],
          "name": "stdout"
        }
      ]
    },
    {
      "cell_type": "code",
      "metadata": {
        "id": "U7wVe_nICeWa",
        "outputId": "174b6846-b181-4225-ca9c-35eaa78135f3",
        "colab": {
          "base_uri": "https://localhost:8080/",
          "height": 353
        }
      },
      "source": [
        "import os\n",
        "import pathlib\n",
        "\n",
        "# Clone the tensorflow models repository if it doesn't already exist.\n",
        "# We clone from a forked repo because the official tf repo doesn't support per object\n",
        "# statistics in eval. \n",
        "# Take a look into this issue on TF OD API git for additional details:\n",
        "# https://github.com/tensorflow/models/issues/4778#issuecomment-430262110\n",
        "\n",
        "if \"models\" in pathlib.Path.cwd().parts:\n",
        "  while \"models\" in pathlib.Path.cwd().parts:\n",
        "    os.chdir('..')\n",
        "elif not pathlib.Path('models').exists():\n",
        "  !git clone --depth 1 https://github.com/sachin327/models\n",
        "  !git clone --depth 1 https://github.com/sachin327/scripts\n",
        "  !git clone --depth 1 https://github.com/sachin327/workspace\n",
        "\n",
        "# By default the cloned repository is located in /content/models/\n",
        "# The TF OD API part of the repo is located in /content/models/research/object_detection/\n",
        "# Usually, all the scripts are ran from /content/models/research/ as the base directory\n",
        "# In order to explore the scripts in the OD API, you can use the Files navigation bar\n",
        "# on the left side of the Google Colab notebook.\n",
        "# Double-clicking a file will open a scratch editor on the right side of the Google Colab notebook.\n",
        "\n",
        "%cd '//content/models/research'\n",
        "\n",
        "# COCO is a large image dataset designed for object detection, segmentation, person keypoints detection, stuff segmentation, and caption generation. \n",
        "# TF 2 OD API uses PythonAPI pycocotools for performing evaluation of the object detection models.\n",
        "# By default, pycocotools do not support per object statistic in eval, so we replace cocoeval.py script with a custom one that does support it.\n",
        "!cp ./object_detection/metrics/cocoeval.py /usr/local/lib/python3.6/dist-packages/pycocotools/"
      ],
      "execution_count": 1,
      "outputs": [
        {
          "output_type": "stream",
          "text": [
            "Cloning into 'models'...\n",
            "remote: Enumerating objects: 2797, done.\u001b[K\n",
            "remote: Counting objects: 100% (2797/2797), done.\u001b[K\n",
            "remote: Compressing objects: 100% (2458/2458), done.\u001b[K\n",
            "remote: Total 2797 (delta 566), reused 1938 (delta 303), pack-reused 0\u001b[K\n",
            "Receiving objects: 100% (2797/2797), 57.73 MiB | 14.82 MiB/s, done.\n",
            "Resolving deltas: 100% (566/566), done.\n",
            "Cloning into 'scripts'...\n",
            "remote: Enumerating objects: 6, done.\u001b[K\n",
            "remote: Counting objects: 100% (6/6), done.\u001b[K\n",
            "remote: Compressing objects: 100% (5/5), done.\u001b[K\n",
            "remote: Total 6 (delta 0), reused 5 (delta 0), pack-reused 0\u001b[K\n",
            "Unpacking objects: 100% (6/6), done.\n",
            "Cloning into 'workspace'...\n",
            "remote: Enumerating objects: 12, done.\u001b[K\n",
            "remote: Counting objects: 100% (12/12), done.\u001b[K\n",
            "remote: Compressing objects: 100% (7/7), done.\u001b[K\n",
            "remote: Total 12 (delta 0), reused 10 (delta 0), pack-reused 0\u001b[K\n",
            "Unpacking objects: 100% (12/12), done.\n",
            "/content/models/research\n"
          ],
          "name": "stdout"
        }
      ]
    },
    {
      "cell_type": "code",
      "metadata": {
        "id": "e-0MvJVuNMdD",
        "outputId": "95a7d4ef-0294-4ea5-a0ff-861522f3e888",
        "colab": {
          "base_uri": "https://localhost:8080/",
          "height": 1000
        }
      },
      "source": [
        "%%bash\n",
        "# Compile protos.\n",
        "protoc object_detection/protos/*.proto --python_out=.\n",
        "\n",
        "# Install TensorFlow 2 Object Detection API.\n",
        "cp object_detection/packages/tf2/setup.py .\n",
        "python -m pip install ."
      ],
      "execution_count": null,
      "outputs": [
        {
          "output_type": "stream",
          "text": [
            "Processing /content/models/research\n",
            "Requirement already satisfied: pillow in /usr/local/lib/python3.6/dist-packages (from object-detection==0.1) (7.0.0)\n",
            "Requirement already satisfied: lxml in /usr/local/lib/python3.6/dist-packages (from object-detection==0.1) (4.2.6)\n",
            "Requirement already satisfied: matplotlib in /usr/local/lib/python3.6/dist-packages (from object-detection==0.1) (3.2.2)\n",
            "Requirement already satisfied: Cython in /usr/local/lib/python3.6/dist-packages (from object-detection==0.1) (0.29.21)\n",
            "Requirement already satisfied: contextlib2 in /usr/local/lib/python3.6/dist-packages (from object-detection==0.1) (0.5.5)\n",
            "Collecting tf-slim\n",
            "  Downloading https://files.pythonhosted.org/packages/02/97/b0f4a64df018ca018cc035d44f2ef08f91e2e8aa67271f6f19633a015ff7/tf_slim-1.1.0-py2.py3-none-any.whl (352kB)\n",
            "Requirement already satisfied: six in /usr/local/lib/python3.6/dist-packages (from object-detection==0.1) (1.15.0)\n",
            "Requirement already satisfied: pycocotools in /usr/local/lib/python3.6/dist-packages (from object-detection==0.1) (2.0.2)\n",
            "Requirement already satisfied: scipy in /usr/local/lib/python3.6/dist-packages (from object-detection==0.1) (1.4.1)\n",
            "Requirement already satisfied: pandas in /usr/local/lib/python3.6/dist-packages (from object-detection==0.1) (1.1.2)\n",
            "Collecting tf-models-official\n",
            "  Downloading https://files.pythonhosted.org/packages/5b/33/91e5e90e3e96292717245d3fe87eb3b35b07c8a2113f2da7f482040facdb/tf_models_official-2.3.0-py2.py3-none-any.whl (840kB)\n",
            "Requirement already satisfied: kiwisolver>=1.0.1 in /usr/local/lib/python3.6/dist-packages (from matplotlib->object-detection==0.1) (1.2.0)\n",
            "Requirement already satisfied: numpy>=1.11 in /usr/local/lib/python3.6/dist-packages (from matplotlib->object-detection==0.1) (1.18.5)\n",
            "Requirement already satisfied: python-dateutil>=2.1 in /usr/local/lib/python3.6/dist-packages (from matplotlib->object-detection==0.1) (2.8.1)\n",
            "Requirement already satisfied: pyparsing!=2.0.4,!=2.1.2,!=2.1.6,>=2.0.1 in /usr/local/lib/python3.6/dist-packages (from matplotlib->object-detection==0.1) (2.4.7)\n",
            "Requirement already satisfied: cycler>=0.10 in /usr/local/lib/python3.6/dist-packages (from matplotlib->object-detection==0.1) (0.10.0)\n",
            "Requirement already satisfied: absl-py>=0.2.2 in /usr/local/lib/python3.6/dist-packages (from tf-slim->object-detection==0.1) (0.10.0)\n",
            "Requirement already satisfied: setuptools>=18.0 in /usr/local/lib/python3.6/dist-packages (from pycocotools->object-detection==0.1) (50.3.0)\n",
            "Requirement already satisfied: pytz>=2017.2 in /usr/local/lib/python3.6/dist-packages (from pandas->object-detection==0.1) (2018.9)\n",
            "Requirement already satisfied: tensorflow-addons in /usr/local/lib/python3.6/dist-packages (from tf-models-official->object-detection==0.1) (0.8.3)\n",
            "Collecting sentencepiece\n",
            "  Downloading https://files.pythonhosted.org/packages/d4/a4/d0a884c4300004a78cca907a6ff9a5e9fe4f090f5d95ab341c53d28cbc58/sentencepiece-0.1.91-cp36-cp36m-manylinux1_x86_64.whl (1.1MB)\n",
            "Requirement already satisfied: tensorflow>=2.3.0 in /usr/local/lib/python3.6/dist-packages (from tf-models-official->object-detection==0.1) (2.3.0)\n",
            "Requirement already satisfied: tensorflow-datasets in /usr/local/lib/python3.6/dist-packages (from tf-models-official->object-detection==0.1) (2.1.0)\n",
            "Requirement already satisfied: google-cloud-bigquery>=0.31.0 in /usr/local/lib/python3.6/dist-packages (from tf-models-official->object-detection==0.1) (1.21.0)\n",
            "Requirement already satisfied: psutil>=5.4.3 in /usr/local/lib/python3.6/dist-packages (from tf-models-official->object-detection==0.1) (5.4.8)\n",
            "Requirement already satisfied: dataclasses in /usr/local/lib/python3.6/dist-packages (from tf-models-official->object-detection==0.1) (0.7)\n",
            "Requirement already satisfied: google-api-python-client>=1.6.7 in /usr/local/lib/python3.6/dist-packages (from tf-models-official->object-detection==0.1) (1.7.12)\n",
            "Collecting tensorflow-model-optimization>=0.2.1\n",
            "  Downloading https://files.pythonhosted.org/packages/55/38/4fd48ea1bfcb0b6e36d949025200426fe9c3a8bfae029f0973d85518fa5a/tensorflow_model_optimization-0.5.0-py2.py3-none-any.whl (172kB)\n",
            "Collecting opencv-python-headless\n",
            "  Downloading https://files.pythonhosted.org/packages/e2/e2/6670da2b12544858657058a5db2f088a18c56d0144bef8d178ad4734b7a3/opencv_python_headless-4.4.0.44-cp36-cp36m-manylinux2014_x86_64.whl (36.7MB)\n",
            "Collecting py-cpuinfo>=3.3.0\n",
            "  Downloading https://files.pythonhosted.org/packages/f6/f5/8e6e85ce2e9f6e05040cf0d4e26f43a4718bcc4bce988b433276d4b1a5c1/py-cpuinfo-7.0.0.tar.gz (95kB)\n",
            "Requirement already satisfied: pyyaml in /usr/local/lib/python3.6/dist-packages (from tf-models-official->object-detection==0.1) (3.13)\n",
            "Requirement already satisfied: gin-config in /usr/local/lib/python3.6/dist-packages (from tf-models-official->object-detection==0.1) (0.3.0)\n",
            "Requirement already satisfied: tensorflow-hub>=0.6.0 in /usr/local/lib/python3.6/dist-packages (from tf-models-official->object-detection==0.1) (0.9.0)\n",
            "Requirement already satisfied: kaggle>=1.3.9 in /usr/local/lib/python3.6/dist-packages (from tf-models-official->object-detection==0.1) (1.5.8)\n",
            "Requirement already satisfied: typeguard in /usr/local/lib/python3.6/dist-packages (from tensorflow-addons->tf-models-official->object-detection==0.1) (2.7.1)\n",
            "Requirement already satisfied: tensorflow-estimator<2.4.0,>=2.3.0 in /usr/local/lib/python3.6/dist-packages (from tensorflow>=2.3.0->tf-models-official->object-detection==0.1) (2.3.0)\n",
            "Requirement already satisfied: h5py<2.11.0,>=2.10.0 in /usr/local/lib/python3.6/dist-packages (from tensorflow>=2.3.0->tf-models-official->object-detection==0.1) (2.10.0)\n",
            "Requirement already satisfied: astunparse==1.6.3 in /usr/local/lib/python3.6/dist-packages (from tensorflow>=2.3.0->tf-models-official->object-detection==0.1) (1.6.3)\n",
            "Requirement already satisfied: protobuf>=3.9.2 in /usr/local/lib/python3.6/dist-packages (from tensorflow>=2.3.0->tf-models-official->object-detection==0.1) (3.12.4)\n",
            "Requirement already satisfied: wheel>=0.26 in /usr/local/lib/python3.6/dist-packages (from tensorflow>=2.3.0->tf-models-official->object-detection==0.1) (0.35.1)\n",
            "Requirement already satisfied: opt-einsum>=2.3.2 in /usr/local/lib/python3.6/dist-packages (from tensorflow>=2.3.0->tf-models-official->object-detection==0.1) (3.3.0)\n",
            "Requirement already satisfied: wrapt>=1.11.1 in /usr/local/lib/python3.6/dist-packages (from tensorflow>=2.3.0->tf-models-official->object-detection==0.1) (1.12.1)\n",
            "Requirement already satisfied: grpcio>=1.8.6 in /usr/local/lib/python3.6/dist-packages (from tensorflow>=2.3.0->tf-models-official->object-detection==0.1) (1.32.0)\n",
            "Requirement already satisfied: keras-preprocessing<1.2,>=1.1.1 in /usr/local/lib/python3.6/dist-packages (from tensorflow>=2.3.0->tf-models-official->object-detection==0.1) (1.1.2)\n",
            "Requirement already satisfied: tensorboard<3,>=2.3.0 in /usr/local/lib/python3.6/dist-packages (from tensorflow>=2.3.0->tf-models-official->object-detection==0.1) (2.3.0)\n",
            "Requirement already satisfied: google-pasta>=0.1.8 in /usr/local/lib/python3.6/dist-packages (from tensorflow>=2.3.0->tf-models-official->object-detection==0.1) (0.2.0)\n",
            "Requirement already satisfied: gast==0.3.3 in /usr/local/lib/python3.6/dist-packages (from tensorflow>=2.3.0->tf-models-official->object-detection==0.1) (0.3.3)\n",
            "Requirement already satisfied: termcolor>=1.1.0 in /usr/local/lib/python3.6/dist-packages (from tensorflow>=2.3.0->tf-models-official->object-detection==0.1) (1.1.0)\n",
            "Requirement already satisfied: requests>=2.19.0 in /usr/local/lib/python3.6/dist-packages (from tensorflow-datasets->tf-models-official->object-detection==0.1) (2.23.0)\n",
            "Requirement already satisfied: tensorflow-metadata in /usr/local/lib/python3.6/dist-packages (from tensorflow-datasets->tf-models-official->object-detection==0.1) (0.24.0)\n",
            "Requirement already satisfied: dill in /usr/local/lib/python3.6/dist-packages (from tensorflow-datasets->tf-models-official->object-detection==0.1) (0.3.2)\n",
            "Requirement already satisfied: future in /usr/local/lib/python3.6/dist-packages (from tensorflow-datasets->tf-models-official->object-detection==0.1) (0.16.0)\n",
            "Requirement already satisfied: tqdm in /usr/local/lib/python3.6/dist-packages (from tensorflow-datasets->tf-models-official->object-detection==0.1) (4.41.1)\n",
            "Requirement already satisfied: promise in /usr/local/lib/python3.6/dist-packages (from tensorflow-datasets->tf-models-official->object-detection==0.1) (2.3)\n",
            "Requirement already satisfied: attrs>=18.1.0 in /usr/local/lib/python3.6/dist-packages (from tensorflow-datasets->tf-models-official->object-detection==0.1) (20.2.0)\n",
            "Requirement already satisfied: google-cloud-core<2.0dev,>=1.0.3 in /usr/local/lib/python3.6/dist-packages (from google-cloud-bigquery>=0.31.0->tf-models-official->object-detection==0.1) (1.0.3)\n",
            "Requirement already satisfied: google-resumable-media!=0.4.0,<0.5.0dev,>=0.3.1 in /usr/local/lib/python3.6/dist-packages (from google-cloud-bigquery>=0.31.0->tf-models-official->object-detection==0.1) (0.4.1)\n",
            "Requirement already satisfied: google-auth-httplib2>=0.0.3 in /usr/local/lib/python3.6/dist-packages (from google-api-python-client>=1.6.7->tf-models-official->object-detection==0.1) (0.0.4)\n",
            "Requirement already satisfied: httplib2<1dev,>=0.17.0 in /usr/local/lib/python3.6/dist-packages (from google-api-python-client>=1.6.7->tf-models-official->object-detection==0.1) (0.17.4)\n",
            "Requirement already satisfied: uritemplate<4dev,>=3.0.0 in /usr/local/lib/python3.6/dist-packages (from google-api-python-client>=1.6.7->tf-models-official->object-detection==0.1) (3.0.1)\n",
            "Requirement already satisfied: google-auth>=1.4.1 in /usr/local/lib/python3.6/dist-packages (from google-api-python-client>=1.6.7->tf-models-official->object-detection==0.1) (1.17.2)\n",
            "Requirement already satisfied: dm-tree~=0.1.1 in /usr/local/lib/python3.6/dist-packages (from tensorflow-model-optimization>=0.2.1->tf-models-official->object-detection==0.1) (0.1.5)\n",
            "Requirement already satisfied: slugify in /usr/local/lib/python3.6/dist-packages (from kaggle>=1.3.9->tf-models-official->object-detection==0.1) (0.0.1)\n",
            "Requirement already satisfied: urllib3<1.25,>=1.21.1 in /usr/local/lib/python3.6/dist-packages (from kaggle>=1.3.9->tf-models-official->object-detection==0.1) (1.24.3)\n",
            "Requirement already satisfied: python-slugify in /usr/local/lib/python3.6/dist-packages (from kaggle>=1.3.9->tf-models-official->object-detection==0.1) (4.0.1)\n",
            "Requirement already satisfied: certifi in /usr/local/lib/python3.6/dist-packages (from kaggle>=1.3.9->tf-models-official->object-detection==0.1) (2020.6.20)\n",
            "Requirement already satisfied: tensorboard-plugin-wit>=1.6.0 in /usr/local/lib/python3.6/dist-packages (from tensorboard<3,>=2.3.0->tensorflow>=2.3.0->tf-models-official->object-detection==0.1) (1.7.0)\n",
            "Requirement already satisfied: werkzeug>=0.11.15 in /usr/local/lib/python3.6/dist-packages (from tensorboard<3,>=2.3.0->tensorflow>=2.3.0->tf-models-official->object-detection==0.1) (1.0.1)\n",
            "Requirement already satisfied: google-auth-oauthlib<0.5,>=0.4.1 in /usr/local/lib/python3.6/dist-packages (from tensorboard<3,>=2.3.0->tensorflow>=2.3.0->tf-models-official->object-detection==0.1) (0.4.1)\n",
            "Requirement already satisfied: markdown>=2.6.8 in /usr/local/lib/python3.6/dist-packages (from tensorboard<3,>=2.3.0->tensorflow>=2.3.0->tf-models-official->object-detection==0.1) (3.2.2)\n",
            "Requirement already satisfied: chardet<4,>=3.0.2 in /usr/local/lib/python3.6/dist-packages (from requests>=2.19.0->tensorflow-datasets->tf-models-official->object-detection==0.1) (3.0.4)\n",
            "Requirement already satisfied: idna<3,>=2.5 in /usr/local/lib/python3.6/dist-packages (from requests>=2.19.0->tensorflow-datasets->tf-models-official->object-detection==0.1) (2.10)\n",
            "Requirement already satisfied: googleapis-common-protos<2,>=1.52.0 in /usr/local/lib/python3.6/dist-packages (from tensorflow-metadata->tensorflow-datasets->tf-models-official->object-detection==0.1) (1.52.0)\n",
            "Requirement already satisfied: google-api-core<2.0.0dev,>=1.14.0 in /usr/local/lib/python3.6/dist-packages (from google-cloud-core<2.0dev,>=1.0.3->google-cloud-bigquery>=0.31.0->tf-models-official->object-detection==0.1) (1.16.0)\n",
            "Requirement already satisfied: cachetools<5.0,>=2.0.0 in /usr/local/lib/python3.6/dist-packages (from google-auth>=1.4.1->google-api-python-client>=1.6.7->tf-models-official->object-detection==0.1) (4.1.1)\n",
            "Requirement already satisfied: rsa<5,>=3.1.4; python_version >= \"3\" in /usr/local/lib/python3.6/dist-packages (from google-auth>=1.4.1->google-api-python-client>=1.6.7->tf-models-official->object-detection==0.1) (4.6)\n",
            "Requirement already satisfied: pyasn1-modules>=0.2.1 in /usr/local/lib/python3.6/dist-packages (from google-auth>=1.4.1->google-api-python-client>=1.6.7->tf-models-official->object-detection==0.1) (0.2.8)\n",
            "Requirement already satisfied: text-unidecode>=1.3 in /usr/local/lib/python3.6/dist-packages (from python-slugify->kaggle>=1.3.9->tf-models-official->object-detection==0.1) (1.3)\n",
            "Requirement already satisfied: requests-oauthlib>=0.7.0 in /usr/local/lib/python3.6/dist-packages (from google-auth-oauthlib<0.5,>=0.4.1->tensorboard<3,>=2.3.0->tensorflow>=2.3.0->tf-models-official->object-detection==0.1) (1.3.0)\n",
            "Requirement already satisfied: importlib-metadata; python_version < \"3.8\" in /usr/local/lib/python3.6/dist-packages (from markdown>=2.6.8->tensorboard<3,>=2.3.0->tensorflow>=2.3.0->tf-models-official->object-detection==0.1) (2.0.0)\n",
            "Requirement already satisfied: pyasn1>=0.1.3 in /usr/local/lib/python3.6/dist-packages (from rsa<5,>=3.1.4; python_version >= \"3\"->google-auth>=1.4.1->google-api-python-client>=1.6.7->tf-models-official->object-detection==0.1) (0.4.8)\n",
            "Requirement already satisfied: oauthlib>=3.0.0 in /usr/local/lib/python3.6/dist-packages (from requests-oauthlib>=0.7.0->google-auth-oauthlib<0.5,>=0.4.1->tensorboard<3,>=2.3.0->tensorflow>=2.3.0->tf-models-official->object-detection==0.1) (3.1.0)\n",
            "Requirement already satisfied: zipp>=0.5 in /usr/local/lib/python3.6/dist-packages (from importlib-metadata; python_version < \"3.8\"->markdown>=2.6.8->tensorboard<3,>=2.3.0->tensorflow>=2.3.0->tf-models-official->object-detection==0.1) (3.2.0)\n",
            "Building wheels for collected packages: object-detection, py-cpuinfo\n",
            "  Building wheel for object-detection (setup.py): started\n",
            "  Building wheel for object-detection (setup.py): finished with status 'done'\n",
            "  Created wheel for object-detection: filename=object_detection-0.1-cp36-none-any.whl size=1533997 sha256=8d22d29083044d0a2fda1ffead16c36979047733bacbf30ef4dfb63f149e5c7f\n",
            "  Stored in directory: /tmp/pip-ephem-wheel-cache-xdm5849q/wheels/94/49/4b/39b051683087a22ef7e80ec52152a27249d1a644ccf4e442ea\n",
            "  Building wheel for py-cpuinfo (setup.py): started\n",
            "  Building wheel for py-cpuinfo (setup.py): finished with status 'done'\n",
            "  Created wheel for py-cpuinfo: filename=py_cpuinfo-7.0.0-cp36-none-any.whl size=20071 sha256=96f3e85f448db86c531251993ecab7098534b59bc402a04640dae5e6933ae024\n",
            "  Stored in directory: /root/.cache/pip/wheels/f1/93/7b/127daf0c3a5a49feb2fecd468d508067c733fba5192f726ad1\n",
            "Successfully built object-detection py-cpuinfo\n",
            "Installing collected packages: tf-slim, sentencepiece, tensorflow-model-optimization, opencv-python-headless, py-cpuinfo, tf-models-official, object-detection\n",
            "Successfully installed object-detection-0.1 opencv-python-headless-4.4.0.44 py-cpuinfo-7.0.0 sentencepiece-0.1.91 tensorflow-model-optimization-0.5.0 tf-models-official-2.3.0 tf-slim-1.1.0\n"
          ],
          "name": "stdout"
        },
        {
          "output_type": "stream",
          "text": [
            "object_detection/protos/input_reader.proto: warning: Import object_detection/protos/image_resizer.proto but not used.\n"
          ],
          "name": "stderr"
        }
      ]
    },
    {
      "cell_type": "code",
      "metadata": {
        "id": "n-Ito1R4Nl__",
        "outputId": "528c6db4-a696-4760-ccde-2d59923d5de3",
        "colab": {
          "base_uri": "https://localhost:8080/",
          "height": 1000
        }
      },
      "source": [
        "# Test the TF2 OD API installation\n",
        "!python object_detection/builders/model_builder_tf2_test.py"
      ],
      "execution_count": null,
      "outputs": [
        {
          "output_type": "stream",
          "text": [
            "2020-10-08 06:01:07.990588: I tensorflow/stream_executor/platform/default/dso_loader.cc:48] Successfully opened dynamic library libcudart.so.10.1\n",
            "Running tests under Python 3.6.9: /usr/bin/python3\n",
            "[ RUN      ] ModelBuilderTF2Test.test_create_center_net_model\n",
            "2020-10-08 06:01:10.181455: I tensorflow/stream_executor/platform/default/dso_loader.cc:48] Successfully opened dynamic library libcuda.so.1\n",
            "2020-10-08 06:01:10.234902: I tensorflow/stream_executor/cuda/cuda_gpu_executor.cc:982] successful NUMA node read from SysFS had negative value (-1), but there must be at least one NUMA node, so returning NUMA node zero\n",
            "2020-10-08 06:01:10.235522: I tensorflow/core/common_runtime/gpu/gpu_device.cc:1716] Found device 0 with properties: \n",
            "pciBusID: 0000:00:04.0 name: Tesla P4 computeCapability: 6.1\n",
            "coreClock: 1.1135GHz coreCount: 20 deviceMemorySize: 7.43GiB deviceMemoryBandwidth: 178.99GiB/s\n",
            "2020-10-08 06:01:10.235564: I tensorflow/stream_executor/platform/default/dso_loader.cc:48] Successfully opened dynamic library libcudart.so.10.1\n",
            "2020-10-08 06:01:10.466290: I tensorflow/stream_executor/platform/default/dso_loader.cc:48] Successfully opened dynamic library libcublas.so.10\n",
            "2020-10-08 06:01:10.604779: I tensorflow/stream_executor/platform/default/dso_loader.cc:48] Successfully opened dynamic library libcufft.so.10\n",
            "2020-10-08 06:01:10.626039: I tensorflow/stream_executor/platform/default/dso_loader.cc:48] Successfully opened dynamic library libcurand.so.10\n",
            "2020-10-08 06:01:10.911219: I tensorflow/stream_executor/platform/default/dso_loader.cc:48] Successfully opened dynamic library libcusolver.so.10\n",
            "2020-10-08 06:01:10.933747: I tensorflow/stream_executor/platform/default/dso_loader.cc:48] Successfully opened dynamic library libcusparse.so.10\n",
            "2020-10-08 06:01:11.457379: I tensorflow/stream_executor/platform/default/dso_loader.cc:48] Successfully opened dynamic library libcudnn.so.7\n",
            "2020-10-08 06:01:11.457661: I tensorflow/stream_executor/cuda/cuda_gpu_executor.cc:982] successful NUMA node read from SysFS had negative value (-1), but there must be at least one NUMA node, so returning NUMA node zero\n",
            "2020-10-08 06:01:11.458412: I tensorflow/stream_executor/cuda/cuda_gpu_executor.cc:982] successful NUMA node read from SysFS had negative value (-1), but there must be at least one NUMA node, so returning NUMA node zero\n",
            "2020-10-08 06:01:11.458967: I tensorflow/core/common_runtime/gpu/gpu_device.cc:1858] Adding visible gpu devices: 0\n",
            "2020-10-08 06:01:11.459375: I tensorflow/core/platform/cpu_feature_guard.cc:142] This TensorFlow binary is optimized with oneAPI Deep Neural Network Library (oneDNN)to use the following CPU instructions in performance-critical operations:  AVX2 AVX512F FMA\n",
            "To enable them in other operations, rebuild TensorFlow with the appropriate compiler flags.\n",
            "2020-10-08 06:01:11.465292: I tensorflow/core/platform/profile_utils/cpu_utils.cc:104] CPU Frequency: 2000150000 Hz\n",
            "2020-10-08 06:01:11.465532: I tensorflow/compiler/xla/service/service.cc:168] XLA service 0x2f07640 initialized for platform Host (this does not guarantee that XLA will be used). Devices:\n",
            "2020-10-08 06:01:11.465565: I tensorflow/compiler/xla/service/service.cc:176]   StreamExecutor device (0): Host, Default Version\n",
            "2020-10-08 06:01:11.590007: I tensorflow/stream_executor/cuda/cuda_gpu_executor.cc:982] successful NUMA node read from SysFS had negative value (-1), but there must be at least one NUMA node, so returning NUMA node zero\n",
            "2020-10-08 06:01:11.590567: I tensorflow/compiler/xla/service/service.cc:168] XLA service 0x2f07800 initialized for platform CUDA (this does not guarantee that XLA will be used). Devices:\n",
            "2020-10-08 06:01:11.590605: I tensorflow/compiler/xla/service/service.cc:176]   StreamExecutor device (0): Tesla P4, Compute Capability 6.1\n",
            "2020-10-08 06:01:11.591927: I tensorflow/stream_executor/cuda/cuda_gpu_executor.cc:982] successful NUMA node read from SysFS had negative value (-1), but there must be at least one NUMA node, so returning NUMA node zero\n",
            "2020-10-08 06:01:11.592293: I tensorflow/core/common_runtime/gpu/gpu_device.cc:1716] Found device 0 with properties: \n",
            "pciBusID: 0000:00:04.0 name: Tesla P4 computeCapability: 6.1\n",
            "coreClock: 1.1135GHz coreCount: 20 deviceMemorySize: 7.43GiB deviceMemoryBandwidth: 178.99GiB/s\n",
            "2020-10-08 06:01:11.592340: I tensorflow/stream_executor/platform/default/dso_loader.cc:48] Successfully opened dynamic library libcudart.so.10.1\n",
            "2020-10-08 06:01:11.592384: I tensorflow/stream_executor/platform/default/dso_loader.cc:48] Successfully opened dynamic library libcublas.so.10\n",
            "2020-10-08 06:01:11.592443: I tensorflow/stream_executor/platform/default/dso_loader.cc:48] Successfully opened dynamic library libcufft.so.10\n",
            "2020-10-08 06:01:11.592466: I tensorflow/stream_executor/platform/default/dso_loader.cc:48] Successfully opened dynamic library libcurand.so.10\n",
            "2020-10-08 06:01:11.592487: I tensorflow/stream_executor/platform/default/dso_loader.cc:48] Successfully opened dynamic library libcusolver.so.10\n",
            "2020-10-08 06:01:11.592505: I tensorflow/stream_executor/platform/default/dso_loader.cc:48] Successfully opened dynamic library libcusparse.so.10\n",
            "2020-10-08 06:01:11.592524: I tensorflow/stream_executor/platform/default/dso_loader.cc:48] Successfully opened dynamic library libcudnn.so.7\n",
            "2020-10-08 06:01:11.592602: I tensorflow/stream_executor/cuda/cuda_gpu_executor.cc:982] successful NUMA node read from SysFS had negative value (-1), but there must be at least one NUMA node, so returning NUMA node zero\n",
            "2020-10-08 06:01:11.592980: I tensorflow/stream_executor/cuda/cuda_gpu_executor.cc:982] successful NUMA node read from SysFS had negative value (-1), but there must be at least one NUMA node, so returning NUMA node zero\n",
            "2020-10-08 06:01:11.593289: I tensorflow/core/common_runtime/gpu/gpu_device.cc:1858] Adding visible gpu devices: 0\n",
            "2020-10-08 06:01:11.593336: I tensorflow/stream_executor/platform/default/dso_loader.cc:48] Successfully opened dynamic library libcudart.so.10.1\n",
            "2020-10-08 06:01:12.282475: I tensorflow/core/common_runtime/gpu/gpu_device.cc:1257] Device interconnect StreamExecutor with strength 1 edge matrix:\n",
            "2020-10-08 06:01:12.282536: I tensorflow/core/common_runtime/gpu/gpu_device.cc:1263]      0 \n",
            "2020-10-08 06:01:12.282548: I tensorflow/core/common_runtime/gpu/gpu_device.cc:1276] 0:   N \n",
            "2020-10-08 06:01:12.282789: I tensorflow/stream_executor/cuda/cuda_gpu_executor.cc:982] successful NUMA node read from SysFS had negative value (-1), but there must be at least one NUMA node, so returning NUMA node zero\n",
            "2020-10-08 06:01:12.283242: I tensorflow/stream_executor/cuda/cuda_gpu_executor.cc:982] successful NUMA node read from SysFS had negative value (-1), but there must be at least one NUMA node, so returning NUMA node zero\n",
            "2020-10-08 06:01:12.283606: W tensorflow/core/common_runtime/gpu/gpu_bfc_allocator.cc:39] Overriding allow_growth setting because the TF_FORCE_GPU_ALLOW_GROWTH environment variable is set. Original config value was 0.\n",
            "2020-10-08 06:01:12.283651: I tensorflow/core/common_runtime/gpu/gpu_device.cc:1402] Created TensorFlow device (/job:localhost/replica:0/task:0/device:GPU:0 with 6943 MB memory) -> physical GPU (device: 0, name: Tesla P4, pci bus id: 0000:00:04.0, compute capability: 6.1)\n",
            "INFO:tensorflow:time(__main__.ModelBuilderTF2Test.test_create_center_net_model): 6.44s\n",
            "I1008 06:01:16.410094 139842712250240 test_util.py:1973] time(__main__.ModelBuilderTF2Test.test_create_center_net_model): 6.44s\n",
            "[       OK ] ModelBuilderTF2Test.test_create_center_net_model\n",
            "[ RUN      ] ModelBuilderTF2Test.test_create_experimental_model\n",
            "INFO:tensorflow:time(__main__.ModelBuilderTF2Test.test_create_experimental_model): 0.0s\n",
            "I1008 06:01:16.411252 139842712250240 test_util.py:1973] time(__main__.ModelBuilderTF2Test.test_create_experimental_model): 0.0s\n",
            "[       OK ] ModelBuilderTF2Test.test_create_experimental_model\n",
            "[ RUN      ] ModelBuilderTF2Test.test_create_faster_rcnn_from_config_with_crop_feature0 (True)\n",
            "INFO:tensorflow:time(__main__.ModelBuilderTF2Test.test_create_faster_rcnn_from_config_with_crop_feature0 (True)): 0.03s\n",
            "I1008 06:01:16.443845 139842712250240 test_util.py:1973] time(__main__.ModelBuilderTF2Test.test_create_faster_rcnn_from_config_with_crop_feature0 (True)): 0.03s\n",
            "[       OK ] ModelBuilderTF2Test.test_create_faster_rcnn_from_config_with_crop_feature0 (True)\n",
            "[ RUN      ] ModelBuilderTF2Test.test_create_faster_rcnn_from_config_with_crop_feature1 (False)\n",
            "INFO:tensorflow:time(__main__.ModelBuilderTF2Test.test_create_faster_rcnn_from_config_with_crop_feature1 (False)): 0.02s\n",
            "I1008 06:01:16.464043 139842712250240 test_util.py:1973] time(__main__.ModelBuilderTF2Test.test_create_faster_rcnn_from_config_with_crop_feature1 (False)): 0.02s\n",
            "[       OK ] ModelBuilderTF2Test.test_create_faster_rcnn_from_config_with_crop_feature1 (False)\n",
            "[ RUN      ] ModelBuilderTF2Test.test_create_faster_rcnn_model_from_config_with_example_miner\n",
            "INFO:tensorflow:time(__main__.ModelBuilderTF2Test.test_create_faster_rcnn_model_from_config_with_example_miner): 0.02s\n",
            "I1008 06:01:16.484860 139842712250240 test_util.py:1973] time(__main__.ModelBuilderTF2Test.test_create_faster_rcnn_model_from_config_with_example_miner): 0.02s\n",
            "[       OK ] ModelBuilderTF2Test.test_create_faster_rcnn_model_from_config_with_example_miner\n",
            "[ RUN      ] ModelBuilderTF2Test.test_create_faster_rcnn_models_from_config_faster_rcnn_with_matmul\n",
            "INFO:tensorflow:time(__main__.ModelBuilderTF2Test.test_create_faster_rcnn_models_from_config_faster_rcnn_with_matmul): 0.14s\n",
            "I1008 06:01:16.627378 139842712250240 test_util.py:1973] time(__main__.ModelBuilderTF2Test.test_create_faster_rcnn_models_from_config_faster_rcnn_with_matmul): 0.14s\n",
            "[       OK ] ModelBuilderTF2Test.test_create_faster_rcnn_models_from_config_faster_rcnn_with_matmul\n",
            "[ RUN      ] ModelBuilderTF2Test.test_create_faster_rcnn_models_from_config_faster_rcnn_without_matmul\n",
            "INFO:tensorflow:time(__main__.ModelBuilderTF2Test.test_create_faster_rcnn_models_from_config_faster_rcnn_without_matmul): 0.15s\n",
            "I1008 06:01:16.775844 139842712250240 test_util.py:1973] time(__main__.ModelBuilderTF2Test.test_create_faster_rcnn_models_from_config_faster_rcnn_without_matmul): 0.15s\n",
            "[       OK ] ModelBuilderTF2Test.test_create_faster_rcnn_models_from_config_faster_rcnn_without_matmul\n",
            "[ RUN      ] ModelBuilderTF2Test.test_create_faster_rcnn_models_from_config_mask_rcnn_with_matmul\n",
            "INFO:tensorflow:time(__main__.ModelBuilderTF2Test.test_create_faster_rcnn_models_from_config_mask_rcnn_with_matmul): 0.14s\n",
            "I1008 06:01:16.918636 139842712250240 test_util.py:1973] time(__main__.ModelBuilderTF2Test.test_create_faster_rcnn_models_from_config_mask_rcnn_with_matmul): 0.14s\n",
            "[       OK ] ModelBuilderTF2Test.test_create_faster_rcnn_models_from_config_mask_rcnn_with_matmul\n",
            "[ RUN      ] ModelBuilderTF2Test.test_create_faster_rcnn_models_from_config_mask_rcnn_without_matmul\n",
            "INFO:tensorflow:time(__main__.ModelBuilderTF2Test.test_create_faster_rcnn_models_from_config_mask_rcnn_without_matmul): 0.14s\n",
            "I1008 06:01:17.061958 139842712250240 test_util.py:1973] time(__main__.ModelBuilderTF2Test.test_create_faster_rcnn_models_from_config_mask_rcnn_without_matmul): 0.14s\n",
            "[       OK ] ModelBuilderTF2Test.test_create_faster_rcnn_models_from_config_mask_rcnn_without_matmul\n",
            "[ RUN      ] ModelBuilderTF2Test.test_create_rfcn_model_from_config\n",
            "INFO:tensorflow:time(__main__.ModelBuilderTF2Test.test_create_rfcn_model_from_config): 0.15s\n",
            "I1008 06:01:17.208993 139842712250240 test_util.py:1973] time(__main__.ModelBuilderTF2Test.test_create_rfcn_model_from_config): 0.15s\n",
            "[       OK ] ModelBuilderTF2Test.test_create_rfcn_model_from_config\n",
            "[ RUN      ] ModelBuilderTF2Test.test_create_ssd_fpn_model_from_config\n",
            "INFO:tensorflow:time(__main__.ModelBuilderTF2Test.test_create_ssd_fpn_model_from_config): 0.04s\n",
            "I1008 06:01:17.251884 139842712250240 test_util.py:1973] time(__main__.ModelBuilderTF2Test.test_create_ssd_fpn_model_from_config): 0.04s\n",
            "[       OK ] ModelBuilderTF2Test.test_create_ssd_fpn_model_from_config\n",
            "[ RUN      ] ModelBuilderTF2Test.test_create_ssd_models_from_config\n",
            "I1008 06:01:17.549519 139842712250240 ssd_efficientnet_bifpn_feature_extractor.py:144] EfficientDet EfficientNet backbone version: efficientnet-b0\n",
            "I1008 06:01:17.549702 139842712250240 ssd_efficientnet_bifpn_feature_extractor.py:145] EfficientDet BiFPN num filters: 64\n",
            "I1008 06:01:17.549775 139842712250240 ssd_efficientnet_bifpn_feature_extractor.py:147] EfficientDet BiFPN num iterations: 3\n",
            "I1008 06:01:17.555580 139842712250240 efficientnet_model.py:148] round_filter input=32 output=32\n",
            "I1008 06:01:17.578721 139842712250240 efficientnet_model.py:148] round_filter input=32 output=32\n",
            "I1008 06:01:17.578852 139842712250240 efficientnet_model.py:148] round_filter input=16 output=16\n",
            "I1008 06:01:17.649113 139842712250240 efficientnet_model.py:148] round_filter input=16 output=16\n",
            "I1008 06:01:17.649273 139842712250240 efficientnet_model.py:148] round_filter input=24 output=24\n",
            "I1008 06:01:17.841913 139842712250240 efficientnet_model.py:148] round_filter input=24 output=24\n",
            "I1008 06:01:17.842081 139842712250240 efficientnet_model.py:148] round_filter input=40 output=40\n",
            "I1008 06:01:18.031797 139842712250240 efficientnet_model.py:148] round_filter input=40 output=40\n",
            "I1008 06:01:18.031980 139842712250240 efficientnet_model.py:148] round_filter input=80 output=80\n",
            "I1008 06:01:18.309208 139842712250240 efficientnet_model.py:148] round_filter input=80 output=80\n",
            "I1008 06:01:18.309379 139842712250240 efficientnet_model.py:148] round_filter input=112 output=112\n",
            "I1008 06:01:18.598974 139842712250240 efficientnet_model.py:148] round_filter input=112 output=112\n",
            "I1008 06:01:18.599142 139842712250240 efficientnet_model.py:148] round_filter input=192 output=192\n",
            "I1008 06:01:19.112598 139842712250240 efficientnet_model.py:148] round_filter input=192 output=192\n",
            "I1008 06:01:19.112768 139842712250240 efficientnet_model.py:148] round_filter input=320 output=320\n",
            "I1008 06:01:19.199704 139842712250240 efficientnet_model.py:148] round_filter input=1280 output=1280\n",
            "I1008 06:01:19.239588 139842712250240 efficientnet_model.py:462] Building model efficientnet with params ModelConfig(width_coefficient=1.0, depth_coefficient=1.0, resolution=224, dropout_rate=0.2, blocks=(BlockConfig(input_filters=32, output_filters=16, kernel_size=3, num_repeat=1, expand_ratio=1, strides=(1, 1), se_ratio=0.25, id_skip=True, fused_conv=False, conv_type='depthwise'), BlockConfig(input_filters=16, output_filters=24, kernel_size=3, num_repeat=2, expand_ratio=6, strides=(2, 2), se_ratio=0.25, id_skip=True, fused_conv=False, conv_type='depthwise'), BlockConfig(input_filters=24, output_filters=40, kernel_size=5, num_repeat=2, expand_ratio=6, strides=(2, 2), se_ratio=0.25, id_skip=True, fused_conv=False, conv_type='depthwise'), BlockConfig(input_filters=40, output_filters=80, kernel_size=3, num_repeat=3, expand_ratio=6, strides=(2, 2), se_ratio=0.25, id_skip=True, fused_conv=False, conv_type='depthwise'), BlockConfig(input_filters=80, output_filters=112, kernel_size=5, num_repeat=3, expand_ratio=6, strides=(1, 1), se_ratio=0.25, id_skip=True, fused_conv=False, conv_type='depthwise'), BlockConfig(input_filters=112, output_filters=192, kernel_size=5, num_repeat=4, expand_ratio=6, strides=(2, 2), se_ratio=0.25, id_skip=True, fused_conv=False, conv_type='depthwise'), BlockConfig(input_filters=192, output_filters=320, kernel_size=3, num_repeat=1, expand_ratio=6, strides=(1, 1), se_ratio=0.25, id_skip=True, fused_conv=False, conv_type='depthwise')), stem_base_filters=32, top_base_filters=1280, activation='simple_swish', batch_norm='default', bn_momentum=0.99, bn_epsilon=0.001, weight_decay=5e-06, drop_connect_rate=0.2, depth_divisor=8, min_depth=None, use_se=True, input_channels=3, num_classes=1000, model_name='efficientnet', rescale_input=False, data_format='channels_last', dtype='float32')\n",
            "I1008 06:01:19.321105 139842712250240 ssd_efficientnet_bifpn_feature_extractor.py:144] EfficientDet EfficientNet backbone version: efficientnet-b1\n",
            "I1008 06:01:19.321307 139842712250240 ssd_efficientnet_bifpn_feature_extractor.py:145] EfficientDet BiFPN num filters: 88\n",
            "I1008 06:01:19.321428 139842712250240 ssd_efficientnet_bifpn_feature_extractor.py:147] EfficientDet BiFPN num iterations: 4\n",
            "I1008 06:01:19.329574 139842712250240 efficientnet_model.py:148] round_filter input=32 output=32\n",
            "I1008 06:01:19.358921 139842712250240 efficientnet_model.py:148] round_filter input=32 output=32\n",
            "I1008 06:01:19.359067 139842712250240 efficientnet_model.py:148] round_filter input=16 output=16\n",
            "I1008 06:01:19.511707 139842712250240 efficientnet_model.py:148] round_filter input=16 output=16\n",
            "I1008 06:01:19.511932 139842712250240 efficientnet_model.py:148] round_filter input=24 output=24\n",
            "I1008 06:01:19.839768 139842712250240 efficientnet_model.py:148] round_filter input=24 output=24\n",
            "I1008 06:01:19.839946 139842712250240 efficientnet_model.py:148] round_filter input=40 output=40\n",
            "I1008 06:01:20.136247 139842712250240 efficientnet_model.py:148] round_filter input=40 output=40\n",
            "I1008 06:01:20.136439 139842712250240 efficientnet_model.py:148] round_filter input=80 output=80\n",
            "I1008 06:01:20.523158 139842712250240 efficientnet_model.py:148] round_filter input=80 output=80\n",
            "I1008 06:01:20.523335 139842712250240 efficientnet_model.py:148] round_filter input=112 output=112\n",
            "I1008 06:01:20.908686 139842712250240 efficientnet_model.py:148] round_filter input=112 output=112\n",
            "I1008 06:01:20.908870 139842712250240 efficientnet_model.py:148] round_filter input=192 output=192\n",
            "I1008 06:01:21.388881 139842712250240 efficientnet_model.py:148] round_filter input=192 output=192\n",
            "I1008 06:01:21.389050 139842712250240 efficientnet_model.py:148] round_filter input=320 output=320\n",
            "I1008 06:01:21.581566 139842712250240 efficientnet_model.py:148] round_filter input=1280 output=1280\n",
            "I1008 06:01:21.621638 139842712250240 efficientnet_model.py:462] Building model efficientnet with params ModelConfig(width_coefficient=1.0, depth_coefficient=1.1, resolution=240, dropout_rate=0.2, blocks=(BlockConfig(input_filters=32, output_filters=16, kernel_size=3, num_repeat=1, expand_ratio=1, strides=(1, 1), se_ratio=0.25, id_skip=True, fused_conv=False, conv_type='depthwise'), BlockConfig(input_filters=16, output_filters=24, kernel_size=3, num_repeat=2, expand_ratio=6, strides=(2, 2), se_ratio=0.25, id_skip=True, fused_conv=False, conv_type='depthwise'), BlockConfig(input_filters=24, output_filters=40, kernel_size=5, num_repeat=2, expand_ratio=6, strides=(2, 2), se_ratio=0.25, id_skip=True, fused_conv=False, conv_type='depthwise'), BlockConfig(input_filters=40, output_filters=80, kernel_size=3, num_repeat=3, expand_ratio=6, strides=(2, 2), se_ratio=0.25, id_skip=True, fused_conv=False, conv_type='depthwise'), BlockConfig(input_filters=80, output_filters=112, kernel_size=5, num_repeat=3, expand_ratio=6, strides=(1, 1), se_ratio=0.25, id_skip=True, fused_conv=False, conv_type='depthwise'), BlockConfig(input_filters=112, output_filters=192, kernel_size=5, num_repeat=4, expand_ratio=6, strides=(2, 2), se_ratio=0.25, id_skip=True, fused_conv=False, conv_type='depthwise'), BlockConfig(input_filters=192, output_filters=320, kernel_size=3, num_repeat=1, expand_ratio=6, strides=(1, 1), se_ratio=0.25, id_skip=True, fused_conv=False, conv_type='depthwise')), stem_base_filters=32, top_base_filters=1280, activation='simple_swish', batch_norm='default', bn_momentum=0.99, bn_epsilon=0.001, weight_decay=5e-06, drop_connect_rate=0.2, depth_divisor=8, min_depth=None, use_se=True, input_channels=3, num_classes=1000, model_name='efficientnet', rescale_input=False, data_format='channels_last', dtype='float32')\n",
            "I1008 06:01:21.712862 139842712250240 ssd_efficientnet_bifpn_feature_extractor.py:144] EfficientDet EfficientNet backbone version: efficientnet-b2\n",
            "I1008 06:01:21.713017 139842712250240 ssd_efficientnet_bifpn_feature_extractor.py:145] EfficientDet BiFPN num filters: 112\n",
            "I1008 06:01:21.713094 139842712250240 ssd_efficientnet_bifpn_feature_extractor.py:147] EfficientDet BiFPN num iterations: 5\n",
            "I1008 06:01:21.717993 139842712250240 efficientnet_model.py:148] round_filter input=32 output=32\n",
            "I1008 06:01:21.739795 139842712250240 efficientnet_model.py:148] round_filter input=32 output=32\n",
            "I1008 06:01:21.739917 139842712250240 efficientnet_model.py:148] round_filter input=16 output=16\n",
            "I1008 06:01:22.066611 139842712250240 efficientnet_model.py:148] round_filter input=16 output=16\n",
            "I1008 06:01:22.066795 139842712250240 efficientnet_model.py:148] round_filter input=24 output=24\n",
            "I1008 06:01:22.360432 139842712250240 efficientnet_model.py:148] round_filter input=24 output=24\n",
            "I1008 06:01:22.360594 139842712250240 efficientnet_model.py:148] round_filter input=40 output=48\n",
            "I1008 06:01:22.658642 139842712250240 efficientnet_model.py:148] round_filter input=40 output=48\n",
            "I1008 06:01:22.658812 139842712250240 efficientnet_model.py:148] round_filter input=80 output=88\n",
            "I1008 06:01:23.066188 139842712250240 efficientnet_model.py:148] round_filter input=80 output=88\n",
            "I1008 06:01:23.066375 139842712250240 efficientnet_model.py:148] round_filter input=112 output=120\n",
            "I1008 06:01:23.494549 139842712250240 efficientnet_model.py:148] round_filter input=112 output=120\n",
            "I1008 06:01:23.494736 139842712250240 efficientnet_model.py:148] round_filter input=192 output=208\n",
            "I1008 06:01:24.033622 139842712250240 efficientnet_model.py:148] round_filter input=192 output=208\n",
            "I1008 06:01:24.033812 139842712250240 efficientnet_model.py:148] round_filter input=320 output=352\n",
            "I1008 06:01:24.219950 139842712250240 efficientnet_model.py:148] round_filter input=1280 output=1408\n",
            "I1008 06:01:24.258011 139842712250240 efficientnet_model.py:462] Building model efficientnet with params ModelConfig(width_coefficient=1.1, depth_coefficient=1.2, resolution=260, dropout_rate=0.3, blocks=(BlockConfig(input_filters=32, output_filters=16, kernel_size=3, num_repeat=1, expand_ratio=1, strides=(1, 1), se_ratio=0.25, id_skip=True, fused_conv=False, conv_type='depthwise'), BlockConfig(input_filters=16, output_filters=24, kernel_size=3, num_repeat=2, expand_ratio=6, strides=(2, 2), se_ratio=0.25, id_skip=True, fused_conv=False, conv_type='depthwise'), BlockConfig(input_filters=24, output_filters=40, kernel_size=5, num_repeat=2, expand_ratio=6, strides=(2, 2), se_ratio=0.25, id_skip=True, fused_conv=False, conv_type='depthwise'), BlockConfig(input_filters=40, output_filters=80, kernel_size=3, num_repeat=3, expand_ratio=6, strides=(2, 2), se_ratio=0.25, id_skip=True, fused_conv=False, conv_type='depthwise'), BlockConfig(input_filters=80, output_filters=112, kernel_size=5, num_repeat=3, expand_ratio=6, strides=(1, 1), se_ratio=0.25, id_skip=True, fused_conv=False, conv_type='depthwise'), BlockConfig(input_filters=112, output_filters=192, kernel_size=5, num_repeat=4, expand_ratio=6, strides=(2, 2), se_ratio=0.25, id_skip=True, fused_conv=False, conv_type='depthwise'), BlockConfig(input_filters=192, output_filters=320, kernel_size=3, num_repeat=1, expand_ratio=6, strides=(1, 1), se_ratio=0.25, id_skip=True, fused_conv=False, conv_type='depthwise')), stem_base_filters=32, top_base_filters=1280, activation='simple_swish', batch_norm='default', bn_momentum=0.99, bn_epsilon=0.001, weight_decay=5e-06, drop_connect_rate=0.2, depth_divisor=8, min_depth=None, use_se=True, input_channels=3, num_classes=1000, model_name='efficientnet', rescale_input=False, data_format='channels_last', dtype='float32')\n",
            "I1008 06:01:24.345830 139842712250240 ssd_efficientnet_bifpn_feature_extractor.py:144] EfficientDet EfficientNet backbone version: efficientnet-b3\n",
            "I1008 06:01:24.346012 139842712250240 ssd_efficientnet_bifpn_feature_extractor.py:145] EfficientDet BiFPN num filters: 160\n",
            "I1008 06:01:24.346102 139842712250240 ssd_efficientnet_bifpn_feature_extractor.py:147] EfficientDet BiFPN num iterations: 6\n",
            "I1008 06:01:24.351814 139842712250240 efficientnet_model.py:148] round_filter input=32 output=40\n",
            "I1008 06:01:24.373624 139842712250240 efficientnet_model.py:148] round_filter input=32 output=40\n",
            "I1008 06:01:24.373751 139842712250240 efficientnet_model.py:148] round_filter input=16 output=24\n",
            "I1008 06:01:24.517470 139842712250240 efficientnet_model.py:148] round_filter input=16 output=24\n",
            "I1008 06:01:24.517626 139842712250240 efficientnet_model.py:148] round_filter input=24 output=32\n",
            "I1008 06:01:24.809419 139842712250240 efficientnet_model.py:148] round_filter input=24 output=32\n",
            "I1008 06:01:24.809591 139842712250240 efficientnet_model.py:148] round_filter input=40 output=48\n",
            "I1008 06:01:25.096202 139842712250240 efficientnet_model.py:148] round_filter input=40 output=48\n",
            "I1008 06:01:25.096417 139842712250240 efficientnet_model.py:148] round_filter input=80 output=96\n",
            "I1008 06:01:25.579817 139842712250240 efficientnet_model.py:148] round_filter input=80 output=96\n",
            "I1008 06:01:25.580021 139842712250240 efficientnet_model.py:148] round_filter input=112 output=136\n",
            "I1008 06:01:26.279449 139842712250240 efficientnet_model.py:148] round_filter input=112 output=136\n",
            "I1008 06:01:26.279625 139842712250240 efficientnet_model.py:148] round_filter input=192 output=232\n",
            "I1008 06:01:26.921217 139842712250240 efficientnet_model.py:148] round_filter input=192 output=232\n",
            "I1008 06:01:26.921421 139842712250240 efficientnet_model.py:148] round_filter input=320 output=384\n",
            "I1008 06:01:27.111674 139842712250240 efficientnet_model.py:148] round_filter input=1280 output=1536\n",
            "I1008 06:01:27.146506 139842712250240 efficientnet_model.py:462] Building model efficientnet with params ModelConfig(width_coefficient=1.2, depth_coefficient=1.4, resolution=300, dropout_rate=0.3, blocks=(BlockConfig(input_filters=32, output_filters=16, kernel_size=3, num_repeat=1, expand_ratio=1, strides=(1, 1), se_ratio=0.25, id_skip=True, fused_conv=False, conv_type='depthwise'), BlockConfig(input_filters=16, output_filters=24, kernel_size=3, num_repeat=2, expand_ratio=6, strides=(2, 2), se_ratio=0.25, id_skip=True, fused_conv=False, conv_type='depthwise'), BlockConfig(input_filters=24, output_filters=40, kernel_size=5, num_repeat=2, expand_ratio=6, strides=(2, 2), se_ratio=0.25, id_skip=True, fused_conv=False, conv_type='depthwise'), BlockConfig(input_filters=40, output_filters=80, kernel_size=3, num_repeat=3, expand_ratio=6, strides=(2, 2), se_ratio=0.25, id_skip=True, fused_conv=False, conv_type='depthwise'), BlockConfig(input_filters=80, output_filters=112, kernel_size=5, num_repeat=3, expand_ratio=6, strides=(1, 1), se_ratio=0.25, id_skip=True, fused_conv=False, conv_type='depthwise'), BlockConfig(input_filters=112, output_filters=192, kernel_size=5, num_repeat=4, expand_ratio=6, strides=(2, 2), se_ratio=0.25, id_skip=True, fused_conv=False, conv_type='depthwise'), BlockConfig(input_filters=192, output_filters=320, kernel_size=3, num_repeat=1, expand_ratio=6, strides=(1, 1), se_ratio=0.25, id_skip=True, fused_conv=False, conv_type='depthwise')), stem_base_filters=32, top_base_filters=1280, activation='simple_swish', batch_norm='default', bn_momentum=0.99, bn_epsilon=0.001, weight_decay=5e-06, drop_connect_rate=0.2, depth_divisor=8, min_depth=None, use_se=True, input_channels=3, num_classes=1000, model_name='efficientnet', rescale_input=False, data_format='channels_last', dtype='float32')\n",
            "I1008 06:01:27.243829 139842712250240 ssd_efficientnet_bifpn_feature_extractor.py:144] EfficientDet EfficientNet backbone version: efficientnet-b4\n",
            "I1008 06:01:27.244018 139842712250240 ssd_efficientnet_bifpn_feature_extractor.py:145] EfficientDet BiFPN num filters: 224\n",
            "I1008 06:01:27.244093 139842712250240 ssd_efficientnet_bifpn_feature_extractor.py:147] EfficientDet BiFPN num iterations: 7\n",
            "I1008 06:01:27.249112 139842712250240 efficientnet_model.py:148] round_filter input=32 output=48\n",
            "I1008 06:01:27.271027 139842712250240 efficientnet_model.py:148] round_filter input=32 output=48\n",
            "I1008 06:01:27.271136 139842712250240 efficientnet_model.py:148] round_filter input=16 output=24\n",
            "I1008 06:01:27.411196 139842712250240 efficientnet_model.py:148] round_filter input=16 output=24\n",
            "I1008 06:01:27.411349 139842712250240 efficientnet_model.py:148] round_filter input=24 output=32\n",
            "I1008 06:01:27.805227 139842712250240 efficientnet_model.py:148] round_filter input=24 output=32\n",
            "I1008 06:01:27.805394 139842712250240 efficientnet_model.py:148] round_filter input=40 output=56\n",
            "I1008 06:01:28.188211 139842712250240 efficientnet_model.py:148] round_filter input=40 output=56\n",
            "I1008 06:01:28.188385 139842712250240 efficientnet_model.py:148] round_filter input=80 output=112\n",
            "I1008 06:01:28.785139 139842712250240 efficientnet_model.py:148] round_filter input=80 output=112\n",
            "I1008 06:01:28.785308 139842712250240 efficientnet_model.py:148] round_filter input=112 output=160\n",
            "I1008 06:01:29.367237 139842712250240 efficientnet_model.py:148] round_filter input=112 output=160\n",
            "I1008 06:01:29.367426 139842712250240 efficientnet_model.py:148] round_filter input=192 output=272\n",
            "I1008 06:01:30.171003 139842712250240 efficientnet_model.py:148] round_filter input=192 output=272\n",
            "I1008 06:01:30.171188 139842712250240 efficientnet_model.py:148] round_filter input=320 output=448\n",
            "I1008 06:01:30.373960 139842712250240 efficientnet_model.py:148] round_filter input=1280 output=1792\n",
            "I1008 06:01:30.415444 139842712250240 efficientnet_model.py:462] Building model efficientnet with params ModelConfig(width_coefficient=1.4, depth_coefficient=1.8, resolution=380, dropout_rate=0.4, blocks=(BlockConfig(input_filters=32, output_filters=16, kernel_size=3, num_repeat=1, expand_ratio=1, strides=(1, 1), se_ratio=0.25, id_skip=True, fused_conv=False, conv_type='depthwise'), BlockConfig(input_filters=16, output_filters=24, kernel_size=3, num_repeat=2, expand_ratio=6, strides=(2, 2), se_ratio=0.25, id_skip=True, fused_conv=False, conv_type='depthwise'), BlockConfig(input_filters=24, output_filters=40, kernel_size=5, num_repeat=2, expand_ratio=6, strides=(2, 2), se_ratio=0.25, id_skip=True, fused_conv=False, conv_type='depthwise'), BlockConfig(input_filters=40, output_filters=80, kernel_size=3, num_repeat=3, expand_ratio=6, strides=(2, 2), se_ratio=0.25, id_skip=True, fused_conv=False, conv_type='depthwise'), BlockConfig(input_filters=80, output_filters=112, kernel_size=5, num_repeat=3, expand_ratio=6, strides=(1, 1), se_ratio=0.25, id_skip=True, fused_conv=False, conv_type='depthwise'), BlockConfig(input_filters=112, output_filters=192, kernel_size=5, num_repeat=4, expand_ratio=6, strides=(2, 2), se_ratio=0.25, id_skip=True, fused_conv=False, conv_type='depthwise'), BlockConfig(input_filters=192, output_filters=320, kernel_size=3, num_repeat=1, expand_ratio=6, strides=(1, 1), se_ratio=0.25, id_skip=True, fused_conv=False, conv_type='depthwise')), stem_base_filters=32, top_base_filters=1280, activation='simple_swish', batch_norm='default', bn_momentum=0.99, bn_epsilon=0.001, weight_decay=5e-06, drop_connect_rate=0.2, depth_divisor=8, min_depth=None, use_se=True, input_channels=3, num_classes=1000, model_name='efficientnet', rescale_input=False, data_format='channels_last', dtype='float32')\n",
            "I1008 06:01:30.533804 139842712250240 ssd_efficientnet_bifpn_feature_extractor.py:144] EfficientDet EfficientNet backbone version: efficientnet-b5\n",
            "I1008 06:01:30.533976 139842712250240 ssd_efficientnet_bifpn_feature_extractor.py:145] EfficientDet BiFPN num filters: 288\n",
            "I1008 06:01:30.534055 139842712250240 ssd_efficientnet_bifpn_feature_extractor.py:147] EfficientDet BiFPN num iterations: 7\n",
            "I1008 06:01:30.539713 139842712250240 efficientnet_model.py:148] round_filter input=32 output=48\n",
            "I1008 06:01:30.563237 139842712250240 efficientnet_model.py:148] round_filter input=32 output=48\n",
            "I1008 06:01:30.563386 139842712250240 efficientnet_model.py:148] round_filter input=16 output=24\n",
            "I1008 06:01:30.809781 139842712250240 efficientnet_model.py:148] round_filter input=16 output=24\n",
            "I1008 06:01:30.809954 139842712250240 efficientnet_model.py:148] round_filter input=24 output=40\n",
            "I1008 06:01:31.598244 139842712250240 efficientnet_model.py:148] round_filter input=24 output=40\n",
            "I1008 06:01:31.598444 139842712250240 efficientnet_model.py:148] round_filter input=40 output=64\n",
            "I1008 06:01:32.119703 139842712250240 efficientnet_model.py:148] round_filter input=40 output=64\n",
            "I1008 06:01:32.119886 139842712250240 efficientnet_model.py:148] round_filter input=80 output=128\n",
            "I1008 06:01:32.805392 139842712250240 efficientnet_model.py:148] round_filter input=80 output=128\n",
            "I1008 06:01:32.805624 139842712250240 efficientnet_model.py:148] round_filter input=112 output=176\n",
            "I1008 06:01:33.494706 139842712250240 efficientnet_model.py:148] round_filter input=112 output=176\n",
            "I1008 06:01:33.494881 139842712250240 efficientnet_model.py:148] round_filter input=192 output=304\n",
            "I1008 06:01:34.398805 139842712250240 efficientnet_model.py:148] round_filter input=192 output=304\n",
            "I1008 06:01:34.398983 139842712250240 efficientnet_model.py:148] round_filter input=320 output=512\n",
            "I1008 06:01:34.699490 139842712250240 efficientnet_model.py:148] round_filter input=1280 output=2048\n",
            "I1008 06:01:34.752905 139842712250240 efficientnet_model.py:462] Building model efficientnet with params ModelConfig(width_coefficient=1.6, depth_coefficient=2.2, resolution=456, dropout_rate=0.4, blocks=(BlockConfig(input_filters=32, output_filters=16, kernel_size=3, num_repeat=1, expand_ratio=1, strides=(1, 1), se_ratio=0.25, id_skip=True, fused_conv=False, conv_type='depthwise'), BlockConfig(input_filters=16, output_filters=24, kernel_size=3, num_repeat=2, expand_ratio=6, strides=(2, 2), se_ratio=0.25, id_skip=True, fused_conv=False, conv_type='depthwise'), BlockConfig(input_filters=24, output_filters=40, kernel_size=5, num_repeat=2, expand_ratio=6, strides=(2, 2), se_ratio=0.25, id_skip=True, fused_conv=False, conv_type='depthwise'), BlockConfig(input_filters=40, output_filters=80, kernel_size=3, num_repeat=3, expand_ratio=6, strides=(2, 2), se_ratio=0.25, id_skip=True, fused_conv=False, conv_type='depthwise'), BlockConfig(input_filters=80, output_filters=112, kernel_size=5, num_repeat=3, expand_ratio=6, strides=(1, 1), se_ratio=0.25, id_skip=True, fused_conv=False, conv_type='depthwise'), BlockConfig(input_filters=112, output_filters=192, kernel_size=5, num_repeat=4, expand_ratio=6, strides=(2, 2), se_ratio=0.25, id_skip=True, fused_conv=False, conv_type='depthwise'), BlockConfig(input_filters=192, output_filters=320, kernel_size=3, num_repeat=1, expand_ratio=6, strides=(1, 1), se_ratio=0.25, id_skip=True, fused_conv=False, conv_type='depthwise')), stem_base_filters=32, top_base_filters=1280, activation='simple_swish', batch_norm='default', bn_momentum=0.99, bn_epsilon=0.001, weight_decay=5e-06, drop_connect_rate=0.2, depth_divisor=8, min_depth=None, use_se=True, input_channels=3, num_classes=1000, model_name='efficientnet', rescale_input=False, data_format='channels_last', dtype='float32')\n",
            "I1008 06:01:34.885939 139842712250240 ssd_efficientnet_bifpn_feature_extractor.py:144] EfficientDet EfficientNet backbone version: efficientnet-b6\n",
            "I1008 06:01:34.886115 139842712250240 ssd_efficientnet_bifpn_feature_extractor.py:145] EfficientDet BiFPN num filters: 384\n",
            "I1008 06:01:34.886187 139842712250240 ssd_efficientnet_bifpn_feature_extractor.py:147] EfficientDet BiFPN num iterations: 8\n",
            "I1008 06:01:34.891175 139842712250240 efficientnet_model.py:148] round_filter input=32 output=56\n",
            "I1008 06:01:34.913267 139842712250240 efficientnet_model.py:148] round_filter input=32 output=56\n",
            "I1008 06:01:34.913382 139842712250240 efficientnet_model.py:148] round_filter input=16 output=32\n",
            "I1008 06:01:35.140650 139842712250240 efficientnet_model.py:148] round_filter input=16 output=32\n",
            "I1008 06:01:35.140814 139842712250240 efficientnet_model.py:148] round_filter input=24 output=40\n",
            "I1008 06:01:35.781090 139842712250240 efficientnet_model.py:148] round_filter input=24 output=40\n",
            "I1008 06:01:35.781267 139842712250240 efficientnet_model.py:148] round_filter input=40 output=72\n",
            "I1008 06:01:36.430958 139842712250240 efficientnet_model.py:148] round_filter input=40 output=72\n",
            "I1008 06:01:36.431153 139842712250240 efficientnet_model.py:148] round_filter input=80 output=144\n",
            "I1008 06:01:37.584085 139842712250240 efficientnet_model.py:148] round_filter input=80 output=144\n",
            "I1008 06:01:37.584261 139842712250240 efficientnet_model.py:148] round_filter input=112 output=200\n",
            "I1008 06:01:38.395916 139842712250240 efficientnet_model.py:148] round_filter input=112 output=200\n",
            "I1008 06:01:38.396085 139842712250240 efficientnet_model.py:148] round_filter input=192 output=344\n",
            "I1008 06:01:39.506738 139842712250240 efficientnet_model.py:148] round_filter input=192 output=344\n",
            "I1008 06:01:39.506910 139842712250240 efficientnet_model.py:148] round_filter input=320 output=576\n",
            "I1008 06:01:39.804950 139842712250240 efficientnet_model.py:148] round_filter input=1280 output=2304\n",
            "I1008 06:01:39.841592 139842712250240 efficientnet_model.py:462] Building model efficientnet with params ModelConfig(width_coefficient=1.8, depth_coefficient=2.6, resolution=528, dropout_rate=0.5, blocks=(BlockConfig(input_filters=32, output_filters=16, kernel_size=3, num_repeat=1, expand_ratio=1, strides=(1, 1), se_ratio=0.25, id_skip=True, fused_conv=False, conv_type='depthwise'), BlockConfig(input_filters=16, output_filters=24, kernel_size=3, num_repeat=2, expand_ratio=6, strides=(2, 2), se_ratio=0.25, id_skip=True, fused_conv=False, conv_type='depthwise'), BlockConfig(input_filters=24, output_filters=40, kernel_size=5, num_repeat=2, expand_ratio=6, strides=(2, 2), se_ratio=0.25, id_skip=True, fused_conv=False, conv_type='depthwise'), BlockConfig(input_filters=40, output_filters=80, kernel_size=3, num_repeat=3, expand_ratio=6, strides=(2, 2), se_ratio=0.25, id_skip=True, fused_conv=False, conv_type='depthwise'), BlockConfig(input_filters=80, output_filters=112, kernel_size=5, num_repeat=3, expand_ratio=6, strides=(1, 1), se_ratio=0.25, id_skip=True, fused_conv=False, conv_type='depthwise'), BlockConfig(input_filters=112, output_filters=192, kernel_size=5, num_repeat=4, expand_ratio=6, strides=(2, 2), se_ratio=0.25, id_skip=True, fused_conv=False, conv_type='depthwise'), BlockConfig(input_filters=192, output_filters=320, kernel_size=3, num_repeat=1, expand_ratio=6, strides=(1, 1), se_ratio=0.25, id_skip=True, fused_conv=False, conv_type='depthwise')), stem_base_filters=32, top_base_filters=1280, activation='simple_swish', batch_norm='default', bn_momentum=0.99, bn_epsilon=0.001, weight_decay=5e-06, drop_connect_rate=0.2, depth_divisor=8, min_depth=None, use_se=True, input_channels=3, num_classes=1000, model_name='efficientnet', rescale_input=False, data_format='channels_last', dtype='float32')\n",
            "I1008 06:01:39.985353 139842712250240 ssd_efficientnet_bifpn_feature_extractor.py:144] EfficientDet EfficientNet backbone version: efficientnet-b7\n",
            "I1008 06:01:39.985552 139842712250240 ssd_efficientnet_bifpn_feature_extractor.py:145] EfficientDet BiFPN num filters: 384\n",
            "I1008 06:01:39.985630 139842712250240 ssd_efficientnet_bifpn_feature_extractor.py:147] EfficientDet BiFPN num iterations: 8\n",
            "I1008 06:01:39.990663 139842712250240 efficientnet_model.py:148] round_filter input=32 output=64\n",
            "I1008 06:01:40.012803 139842712250240 efficientnet_model.py:148] round_filter input=32 output=64\n",
            "I1008 06:01:40.012942 139842712250240 efficientnet_model.py:148] round_filter input=16 output=32\n",
            "I1008 06:01:40.319322 139842712250240 efficientnet_model.py:148] round_filter input=16 output=32\n",
            "I1008 06:01:40.319501 139842712250240 efficientnet_model.py:148] round_filter input=24 output=48\n",
            "I1008 06:01:41.020287 139842712250240 efficientnet_model.py:148] round_filter input=24 output=48\n",
            "I1008 06:01:41.020498 139842712250240 efficientnet_model.py:148] round_filter input=40 output=80\n",
            "I1008 06:01:41.705230 139842712250240 efficientnet_model.py:148] round_filter input=40 output=80\n",
            "I1008 06:01:41.705419 139842712250240 efficientnet_model.py:148] round_filter input=80 output=160\n",
            "I1008 06:01:42.701580 139842712250240 efficientnet_model.py:148] round_filter input=80 output=160\n",
            "I1008 06:01:42.701750 139842712250240 efficientnet_model.py:148] round_filter input=112 output=224\n",
            "I1008 06:01:43.691130 139842712250240 efficientnet_model.py:148] round_filter input=112 output=224\n",
            "I1008 06:01:43.691309 139842712250240 efficientnet_model.py:148] round_filter input=192 output=384\n",
            "I1008 06:01:45.350872 139842712250240 efficientnet_model.py:148] round_filter input=192 output=384\n",
            "I1008 06:01:45.351041 139842712250240 efficientnet_model.py:148] round_filter input=320 output=640\n",
            "I1008 06:01:45.752206 139842712250240 efficientnet_model.py:148] round_filter input=1280 output=2560\n",
            "I1008 06:01:45.788731 139842712250240 efficientnet_model.py:462] Building model efficientnet with params ModelConfig(width_coefficient=2.0, depth_coefficient=3.1, resolution=600, dropout_rate=0.5, blocks=(BlockConfig(input_filters=32, output_filters=16, kernel_size=3, num_repeat=1, expand_ratio=1, strides=(1, 1), se_ratio=0.25, id_skip=True, fused_conv=False, conv_type='depthwise'), BlockConfig(input_filters=16, output_filters=24, kernel_size=3, num_repeat=2, expand_ratio=6, strides=(2, 2), se_ratio=0.25, id_skip=True, fused_conv=False, conv_type='depthwise'), BlockConfig(input_filters=24, output_filters=40, kernel_size=5, num_repeat=2, expand_ratio=6, strides=(2, 2), se_ratio=0.25, id_skip=True, fused_conv=False, conv_type='depthwise'), BlockConfig(input_filters=40, output_filters=80, kernel_size=3, num_repeat=3, expand_ratio=6, strides=(2, 2), se_ratio=0.25, id_skip=True, fused_conv=False, conv_type='depthwise'), BlockConfig(input_filters=80, output_filters=112, kernel_size=5, num_repeat=3, expand_ratio=6, strides=(1, 1), se_ratio=0.25, id_skip=True, fused_conv=False, conv_type='depthwise'), BlockConfig(input_filters=112, output_filters=192, kernel_size=5, num_repeat=4, expand_ratio=6, strides=(2, 2), se_ratio=0.25, id_skip=True, fused_conv=False, conv_type='depthwise'), BlockConfig(input_filters=192, output_filters=320, kernel_size=3, num_repeat=1, expand_ratio=6, strides=(1, 1), se_ratio=0.25, id_skip=True, fused_conv=False, conv_type='depthwise')), stem_base_filters=32, top_base_filters=1280, activation='simple_swish', batch_norm='default', bn_momentum=0.99, bn_epsilon=0.001, weight_decay=5e-06, drop_connect_rate=0.2, depth_divisor=8, min_depth=None, use_se=True, input_channels=3, num_classes=1000, model_name='efficientnet', rescale_input=False, data_format='channels_last', dtype='float32')\n",
            "INFO:tensorflow:time(__main__.ModelBuilderTF2Test.test_create_ssd_models_from_config): 28.69s\n",
            "I1008 06:01:45.943312 139842712250240 test_util.py:1973] time(__main__.ModelBuilderTF2Test.test_create_ssd_models_from_config): 28.69s\n",
            "[       OK ] ModelBuilderTF2Test.test_create_ssd_models_from_config\n",
            "[ RUN      ] ModelBuilderTF2Test.test_invalid_faster_rcnn_batchnorm_update\n",
            "INFO:tensorflow:time(__main__.ModelBuilderTF2Test.test_invalid_faster_rcnn_batchnorm_update): 0.0s\n",
            "I1008 06:01:45.951357 139842712250240 test_util.py:1973] time(__main__.ModelBuilderTF2Test.test_invalid_faster_rcnn_batchnorm_update): 0.0s\n",
            "[       OK ] ModelBuilderTF2Test.test_invalid_faster_rcnn_batchnorm_update\n",
            "[ RUN      ] ModelBuilderTF2Test.test_invalid_first_stage_nms_iou_threshold\n",
            "INFO:tensorflow:time(__main__.ModelBuilderTF2Test.test_invalid_first_stage_nms_iou_threshold): 0.0s\n",
            "I1008 06:01:45.953483 139842712250240 test_util.py:1973] time(__main__.ModelBuilderTF2Test.test_invalid_first_stage_nms_iou_threshold): 0.0s\n",
            "[       OK ] ModelBuilderTF2Test.test_invalid_first_stage_nms_iou_threshold\n",
            "[ RUN      ] ModelBuilderTF2Test.test_invalid_model_config_proto\n",
            "INFO:tensorflow:time(__main__.ModelBuilderTF2Test.test_invalid_model_config_proto): 0.0s\n",
            "I1008 06:01:45.954103 139842712250240 test_util.py:1973] time(__main__.ModelBuilderTF2Test.test_invalid_model_config_proto): 0.0s\n",
            "[       OK ] ModelBuilderTF2Test.test_invalid_model_config_proto\n",
            "[ RUN      ] ModelBuilderTF2Test.test_invalid_second_stage_batch_size\n",
            "INFO:tensorflow:time(__main__.ModelBuilderTF2Test.test_invalid_second_stage_batch_size): 0.0s\n",
            "I1008 06:01:45.955672 139842712250240 test_util.py:1973] time(__main__.ModelBuilderTF2Test.test_invalid_second_stage_batch_size): 0.0s\n",
            "[       OK ] ModelBuilderTF2Test.test_invalid_second_stage_batch_size\n",
            "[ RUN      ] ModelBuilderTF2Test.test_session\n",
            "[  SKIPPED ] ModelBuilderTF2Test.test_session\n",
            "[ RUN      ] ModelBuilderTF2Test.test_unknown_faster_rcnn_feature_extractor\n",
            "INFO:tensorflow:time(__main__.ModelBuilderTF2Test.test_unknown_faster_rcnn_feature_extractor): 0.0s\n",
            "I1008 06:01:45.957304 139842712250240 test_util.py:1973] time(__main__.ModelBuilderTF2Test.test_unknown_faster_rcnn_feature_extractor): 0.0s\n",
            "[       OK ] ModelBuilderTF2Test.test_unknown_faster_rcnn_feature_extractor\n",
            "[ RUN      ] ModelBuilderTF2Test.test_unknown_meta_architecture\n",
            "INFO:tensorflow:time(__main__.ModelBuilderTF2Test.test_unknown_meta_architecture): 0.0s\n",
            "I1008 06:01:45.957899 139842712250240 test_util.py:1973] time(__main__.ModelBuilderTF2Test.test_unknown_meta_architecture): 0.0s\n",
            "[       OK ] ModelBuilderTF2Test.test_unknown_meta_architecture\n",
            "[ RUN      ] ModelBuilderTF2Test.test_unknown_ssd_feature_extractor\n",
            "INFO:tensorflow:time(__main__.ModelBuilderTF2Test.test_unknown_ssd_feature_extractor): 0.0s\n",
            "I1008 06:01:45.959013 139842712250240 test_util.py:1973] time(__main__.ModelBuilderTF2Test.test_unknown_ssd_feature_extractor): 0.0s\n",
            "[       OK ] ModelBuilderTF2Test.test_unknown_ssd_feature_extractor\n",
            "----------------------------------------------------------------------\n",
            "Ran 20 tests in 35.992s\n",
            "\n",
            "OK (skipped=1)\n"
          ],
          "name": "stdout"
        }
      ]
    },
    {
      "cell_type": "code",
      "metadata": {
        "cellView": "code",
        "id": "zwp4YuJNX3Kp"
      },
      "source": [
        "'''save your training image to '//content/workspace/training_demo/images/train' directory and test images to '//content/workspace/training_demo/images/test'\n",
        "with annotations file with them .xml format'''"
      ],
      "execution_count": 1,
      "outputs": []
    },
    {
      "cell_type": "code",
      "metadata": {
        "id": "GrHyhGZIYmV8",
        "outputId": "05e0f0fd-b22e-493a-f35e-b12eb0a30235",
        "colab": {
          "base_uri": "https://localhost:8080/",
          "height": 34
        }
      },
      "source": [
        "%cd '//content/scripts/preprocessing'"
      ],
      "execution_count": null,
      "outputs": [
        {
          "output_type": "stream",
          "text": [
            "/content/scripts/preprocessing\n"
          ],
          "name": "stdout"
        }
      ]
    },
    {
      "cell_type": "code",
      "metadata": {
        "id": "HTtj_x9lYHcX",
        "outputId": "b59b5fb3-8278-4352-e438-8f18f49e496f",
        "colab": {
          "base_uri": "https://localhost:8080/",
          "height": 34
        }
      },
      "source": [
        "!python generate_tfrecord.py -x '//content/workspace/training_demo/images/train' -l '//content/workspace/training_demo/annotations/label_map.pbtxt' -o '//content/workspace/training_demo/annotations/train.record'"
      ],
      "execution_count": null,
      "outputs": [
        {
          "output_type": "stream",
          "text": [
            "Successfully created the TFRecord file: //content/workspace/training_demo/annotations/train.record\n"
          ],
          "name": "stdout"
        }
      ]
    },
    {
      "cell_type": "code",
      "metadata": {
        "id": "evXF8mTNYHXR",
        "outputId": "8f7cd2bf-80ca-491b-b16f-41c99065e8af",
        "colab": {
          "base_uri": "https://localhost:8080/",
          "height": 34
        }
      },
      "source": [
        "!python generate_tfrecord.py -x '//content/workspace/training_demo/images/test' -l '//content/workspace/training_demo/annotations/label_map.pbtxt' -o '//content/workspace/training_demo/annotations/test.record'"
      ],
      "execution_count": null,
      "outputs": [
        {
          "output_type": "stream",
          "text": [
            "Successfully created the TFRecord file: //content/workspace/training_demo/annotations/test.record\n"
          ],
          "name": "stdout"
        }
      ]
    },
    {
      "cell_type": "code",
      "metadata": {
        "id": "bHfMCWtkbaVM",
        "outputId": "48a884af-60da-43ca-e523-ac718ef1e1ef",
        "colab": {
          "base_uri": "https://localhost:8080/",
          "height": 34
        }
      },
      "source": [
        "%cd '//content/workspace/training_demo'"
      ],
      "execution_count": null,
      "outputs": [
        {
          "output_type": "stream",
          "text": [
            "/content/workspace/training_demo\n"
          ],
          "name": "stdout"
        }
      ]
    },
    {
      "cell_type": "code",
      "metadata": {
        "id": "HThrPWQ8WzFr",
        "outputId": "7d3fe3d0-be13-4dff-aa84-10c580f7177b",
        "colab": {
          "base_uri": "https://localhost:8080/",
          "height": 202
        }
      },
      "source": [
        "!wget -nc 'http://download.tensorflow.org/models/object_detection/tf2/20200711/ssd_mobilenet_v2_320x320_coco17_tpu-8.tar.gz' -O ./models/ssd_mobilenet_v2_320x320_coco17_tpu-8.tar.gz"
      ],
      "execution_count": null,
      "outputs": [
        {
          "output_type": "stream",
          "text": [
            "--2020-10-08 06:02:51--  http://download.tensorflow.org/models/object_detection/tf2/20200711/ssd_mobilenet_v2_320x320_coco17_tpu-8.tar.gz\n",
            "Resolving download.tensorflow.org (download.tensorflow.org)... 74.125.200.128, 2404:6800:4003:c00::80\n",
            "Connecting to download.tensorflow.org (download.tensorflow.org)|74.125.200.128|:80... connected.\n",
            "HTTP request sent, awaiting response... 200 OK\n",
            "Length: 46042990 (44M) [application/x-tar]\n",
            "Saving to: ‘./models/ssd_mobilenet_v2_320x320_coco17_tpu-8.tar.gz’\n",
            "\n",
            "./models/ssd_mobile 100%[===================>]  43.91M  11.3MB/s    in 3.9s    \n",
            "\n",
            "2020-10-08 06:02:55 (11.3 MB/s) - ‘./models/ssd_mobilenet_v2_320x320_coco17_tpu-8.tar.gz’ saved [46042990/46042990]\n",
            "\n"
          ],
          "name": "stdout"
        }
      ]
    },
    {
      "cell_type": "code",
      "metadata": {
        "id": "mJUsYiQSz6Jn",
        "outputId": "20167186-349f-499d-ca79-3842cdc68382",
        "colab": {
          "base_uri": "https://localhost:8080/",
          "height": 34
        }
      },
      "source": [
        "%cd '//content/workspace/training_demo'"
      ],
      "execution_count": null,
      "outputs": [
        {
          "output_type": "stream",
          "text": [
            "/content/workspace/training_demo\n"
          ],
          "name": "stdout"
        }
      ]
    },
    {
      "cell_type": "code",
      "metadata": {
        "id": "6JkvVcQne4NM",
        "outputId": "beef1670-7e34-42f9-e362-c83c0965a38c",
        "colab": {
          "base_uri": "https://localhost:8080/",
          "height": 202
        }
      },
      "source": [
        "!tar -xvf  ./models/ssd_mobilenet_v2_320x320_coco17_tpu-8.tar.gz -C ./pre-trained-model"
      ],
      "execution_count": null,
      "outputs": [
        {
          "output_type": "stream",
          "text": [
            "ssd_mobilenet_v2_320x320_coco17_tpu-8/\n",
            "ssd_mobilenet_v2_320x320_coco17_tpu-8/checkpoint/\n",
            "ssd_mobilenet_v2_320x320_coco17_tpu-8/checkpoint/ckpt-0.data-00000-of-00001\n",
            "ssd_mobilenet_v2_320x320_coco17_tpu-8/checkpoint/checkpoint\n",
            "ssd_mobilenet_v2_320x320_coco17_tpu-8/checkpoint/ckpt-0.index\n",
            "ssd_mobilenet_v2_320x320_coco17_tpu-8/pipeline.config\n",
            "ssd_mobilenet_v2_320x320_coco17_tpu-8/saved_model/\n",
            "ssd_mobilenet_v2_320x320_coco17_tpu-8/saved_model/saved_model.pb\n",
            "ssd_mobilenet_v2_320x320_coco17_tpu-8/saved_model/variables/\n",
            "ssd_mobilenet_v2_320x320_coco17_tpu-8/saved_model/variables/variables.data-00000-of-00001\n",
            "ssd_mobilenet_v2_320x320_coco17_tpu-8/saved_model/variables/variables.index\n"
          ],
          "name": "stdout"
        }
      ]
    },
    {
      "cell_type": "code",
      "metadata": {
        "id": "MX-jMdkKNYjg"
      },
      "source": [
        "cp ./pre-trained-model/ssd_mobilenet_v2_320x320_coco17_tpu-8/pipeline.config ./models/my_ssd_mobilenet_v2"
      ],
      "execution_count": null,
      "outputs": []
    },
    {
      "cell_type": "code",
      "metadata": {
        "id": "zBg8p7pL0nF5",
        "outputId": "57a07e77-9611-458b-e546-c5d4b00eca01",
        "colab": {
          "base_uri": "https://localhost:8080/",
          "height": 102
        }
      },
      "source": [
        "'''Now its time to update your '//content/workspace/training_demo/models/my_ssd_mobilenet_v2/pipline.config' file\n",
        "first open your file \n",
        "1. change num_classes acccording to your model\n",
        "2. change batch_size to 2-8\n",
        "3. fine_tune_checkpoint: \"pre-trained-model/ssd_mobilenet_v2_320x320_coco17_tpu-8/checkpoint/ckpt-0\"\n",
        "4. fine_tune_checkpoint_type: \"detection\"\n",
        "5. in train_input_reader\n",
        "    1. label_map_path: \"annotations/label_map.pbtxt\"\n",
        "    2. input_path: \"annotations/train.record\"\n",
        "6. in eval_input_reader\n",
        "    1. label_map_path: \"annotations/label_map.pbtxt\"\n",
        "    2. input_path: \"annotations/test.record\"\n",
        "'''"
      ],
      "execution_count": null,
      "outputs": [
        {
          "output_type": "execute_result",
          "data": {
            "application/vnd.google.colaboratory.intrinsic+json": {
              "type": "string"
            },
            "text/plain": [
              "'Now its time to update your \\'//content/workspace/training_demo/models/my_ssd_mobilenet_v2/pipline.config\\' file\\nfirst open your file \\n1. change num_classes acccording to your model\\n2. change batch_size to 2-8\\n3. fine_tune_checkpoint: \"pre-trained-model/ssd_mobilenet_v2_320x320_coco17_tpu-8/checkpoint/ckpt-0\"\\n4. fine_tune_checkpoint_type: \"detection\"\\n5. in train_input_reader\\n    1. label_map_path: \"annotations/label_map.pbtxt\"\\n    2. input_path: \"annotations/train.record\"\\n6. in eval_input_reader\\n    1. label_map_path: \"annotations/label_map.pbtxt\"\\n    2. input_path: \"annotations/test.record\"\\n'"
            ]
          },
          "metadata": {
            "tags": []
          },
          "execution_count": 19
        }
      ]
    },
    {
      "cell_type": "code",
      "metadata": {
        "id": "ZVQjHQmWbtZw",
        "outputId": "89d45c69-af93-4857-c678-9508306d90f1",
        "colab": {
          "base_uri": "https://localhost:8080/",
          "height": 1000
        }
      },
      "source": [
        "!python model_main_tf2.py --model_dir=models/my_ssd_mobilenet_v2 --pipeline_config_path=models/my_ssd_mobilenet_v2/pipeline.config"
      ],
      "execution_count": null,
      "outputs": [
        {
          "output_type": "stream",
          "text": [
            "2020-10-08 06:33:52.283491: I tensorflow/stream_executor/platform/default/dso_loader.cc:48] Successfully opened dynamic library libcudart.so.10.1\n",
            "2020-10-08 06:33:54.200875: I tensorflow/stream_executor/platform/default/dso_loader.cc:48] Successfully opened dynamic library libcuda.so.1\n",
            "2020-10-08 06:33:54.222834: I tensorflow/stream_executor/cuda/cuda_gpu_executor.cc:982] successful NUMA node read from SysFS had negative value (-1), but there must be at least one NUMA node, so returning NUMA node zero\n",
            "2020-10-08 06:33:54.223435: I tensorflow/core/common_runtime/gpu/gpu_device.cc:1716] Found device 0 with properties: \n",
            "pciBusID: 0000:00:04.0 name: Tesla P4 computeCapability: 6.1\n",
            "coreClock: 1.1135GHz coreCount: 20 deviceMemorySize: 7.43GiB deviceMemoryBandwidth: 178.99GiB/s\n",
            "2020-10-08 06:33:54.223468: I tensorflow/stream_executor/platform/default/dso_loader.cc:48] Successfully opened dynamic library libcudart.so.10.1\n",
            "2020-10-08 06:33:54.234376: I tensorflow/stream_executor/platform/default/dso_loader.cc:48] Successfully opened dynamic library libcublas.so.10\n",
            "2020-10-08 06:33:54.236362: I tensorflow/stream_executor/platform/default/dso_loader.cc:48] Successfully opened dynamic library libcufft.so.10\n",
            "2020-10-08 06:33:54.236718: I tensorflow/stream_executor/platform/default/dso_loader.cc:48] Successfully opened dynamic library libcurand.so.10\n",
            "2020-10-08 06:33:54.243638: I tensorflow/stream_executor/platform/default/dso_loader.cc:48] Successfully opened dynamic library libcusolver.so.10\n",
            "2020-10-08 06:33:54.247563: I tensorflow/stream_executor/platform/default/dso_loader.cc:48] Successfully opened dynamic library libcusparse.so.10\n",
            "2020-10-08 06:33:54.251926: I tensorflow/stream_executor/platform/default/dso_loader.cc:48] Successfully opened dynamic library libcudnn.so.7\n",
            "2020-10-08 06:33:54.252041: I tensorflow/stream_executor/cuda/cuda_gpu_executor.cc:982] successful NUMA node read from SysFS had negative value (-1), but there must be at least one NUMA node, so returning NUMA node zero\n",
            "2020-10-08 06:33:54.252663: I tensorflow/stream_executor/cuda/cuda_gpu_executor.cc:982] successful NUMA node read from SysFS had negative value (-1), but there must be at least one NUMA node, so returning NUMA node zero\n",
            "2020-10-08 06:33:54.253220: I tensorflow/core/common_runtime/gpu/gpu_device.cc:1858] Adding visible gpu devices: 0\n",
            "2020-10-08 06:33:54.253581: I tensorflow/core/platform/cpu_feature_guard.cc:142] This TensorFlow binary is optimized with oneAPI Deep Neural Network Library (oneDNN)to use the following CPU instructions in performance-critical operations:  AVX2 AVX512F FMA\n",
            "To enable them in other operations, rebuild TensorFlow with the appropriate compiler flags.\n",
            "2020-10-08 06:33:54.258552: I tensorflow/core/platform/profile_utils/cpu_utils.cc:104] CPU Frequency: 2000150000 Hz\n",
            "2020-10-08 06:33:54.258747: I tensorflow/compiler/xla/service/service.cc:168] XLA service 0x2c09800 initialized for platform Host (this does not guarantee that XLA will be used). Devices:\n",
            "2020-10-08 06:33:54.258774: I tensorflow/compiler/xla/service/service.cc:176]   StreamExecutor device (0): Host, Default Version\n",
            "2020-10-08 06:33:54.350139: I tensorflow/stream_executor/cuda/cuda_gpu_executor.cc:982] successful NUMA node read from SysFS had negative value (-1), but there must be at least one NUMA node, so returning NUMA node zero\n",
            "2020-10-08 06:33:54.350644: I tensorflow/compiler/xla/service/service.cc:168] XLA service 0x2c099c0 initialized for platform CUDA (this does not guarantee that XLA will be used). Devices:\n",
            "2020-10-08 06:33:54.350676: I tensorflow/compiler/xla/service/service.cc:176]   StreamExecutor device (0): Tesla P4, Compute Capability 6.1\n",
            "2020-10-08 06:33:54.350856: I tensorflow/stream_executor/cuda/cuda_gpu_executor.cc:982] successful NUMA node read from SysFS had negative value (-1), but there must be at least one NUMA node, so returning NUMA node zero\n",
            "2020-10-08 06:33:54.351371: I tensorflow/core/common_runtime/gpu/gpu_device.cc:1716] Found device 0 with properties: \n",
            "pciBusID: 0000:00:04.0 name: Tesla P4 computeCapability: 6.1\n",
            "coreClock: 1.1135GHz coreCount: 20 deviceMemorySize: 7.43GiB deviceMemoryBandwidth: 178.99GiB/s\n",
            "2020-10-08 06:33:54.351593: I tensorflow/stream_executor/platform/default/dso_loader.cc:48] Successfully opened dynamic library libcudart.so.10.1\n",
            "2020-10-08 06:33:54.351649: I tensorflow/stream_executor/platform/default/dso_loader.cc:48] Successfully opened dynamic library libcublas.so.10\n",
            "2020-10-08 06:33:54.351675: I tensorflow/stream_executor/platform/default/dso_loader.cc:48] Successfully opened dynamic library libcufft.so.10\n",
            "2020-10-08 06:33:54.351696: I tensorflow/stream_executor/platform/default/dso_loader.cc:48] Successfully opened dynamic library libcurand.so.10\n",
            "2020-10-08 06:33:54.351721: I tensorflow/stream_executor/platform/default/dso_loader.cc:48] Successfully opened dynamic library libcusolver.so.10\n",
            "2020-10-08 06:33:54.351741: I tensorflow/stream_executor/platform/default/dso_loader.cc:48] Successfully opened dynamic library libcusparse.so.10\n",
            "2020-10-08 06:33:54.351760: I tensorflow/stream_executor/platform/default/dso_loader.cc:48] Successfully opened dynamic library libcudnn.so.7\n",
            "2020-10-08 06:33:54.351842: I tensorflow/stream_executor/cuda/cuda_gpu_executor.cc:982] successful NUMA node read from SysFS had negative value (-1), but there must be at least one NUMA node, so returning NUMA node zero\n",
            "2020-10-08 06:33:54.352237: I tensorflow/stream_executor/cuda/cuda_gpu_executor.cc:982] successful NUMA node read from SysFS had negative value (-1), but there must be at least one NUMA node, so returning NUMA node zero\n",
            "2020-10-08 06:33:54.352581: I tensorflow/core/common_runtime/gpu/gpu_device.cc:1858] Adding visible gpu devices: 0\n",
            "2020-10-08 06:33:54.352632: I tensorflow/stream_executor/platform/default/dso_loader.cc:48] Successfully opened dynamic library libcudart.so.10.1\n",
            "2020-10-08 06:33:55.034036: I tensorflow/core/common_runtime/gpu/gpu_device.cc:1257] Device interconnect StreamExecutor with strength 1 edge matrix:\n",
            "2020-10-08 06:33:55.034090: I tensorflow/core/common_runtime/gpu/gpu_device.cc:1263]      0 \n",
            "2020-10-08 06:33:55.034101: I tensorflow/core/common_runtime/gpu/gpu_device.cc:1276] 0:   N \n",
            "2020-10-08 06:33:55.034303: I tensorflow/stream_executor/cuda/cuda_gpu_executor.cc:982] successful NUMA node read from SysFS had negative value (-1), but there must be at least one NUMA node, so returning NUMA node zero\n",
            "2020-10-08 06:33:55.034778: I tensorflow/stream_executor/cuda/cuda_gpu_executor.cc:982] successful NUMA node read from SysFS had negative value (-1), but there must be at least one NUMA node, so returning NUMA node zero\n",
            "2020-10-08 06:33:55.035125: W tensorflow/core/common_runtime/gpu/gpu_bfc_allocator.cc:39] Overriding allow_growth setting because the TF_FORCE_GPU_ALLOW_GROWTH environment variable is set. Original config value was 0.\n",
            "2020-10-08 06:33:55.035179: I tensorflow/core/common_runtime/gpu/gpu_device.cc:1402] Created TensorFlow device (/job:localhost/replica:0/task:0/device:GPU:0 with 6943 MB memory) -> physical GPU (device: 0, name: Tesla P4, pci bus id: 0000:00:04.0, compute capability: 6.1)\n",
            "INFO:tensorflow:Using MirroredStrategy with devices ('/job:localhost/replica:0/task:0/device:GPU:0',)\n",
            "I1008 06:33:55.037299 140151631648640 mirrored_strategy.py:341] Using MirroredStrategy with devices ('/job:localhost/replica:0/task:0/device:GPU:0',)\n",
            "INFO:tensorflow:Maybe overwriting record_summaries: True\n",
            "I1008 06:33:55.041832 140151631648640 config_util.py:552] Maybe overwriting record_summaries: True\n",
            "INFO:tensorflow:Ignoring config override key: record_summaries\n",
            "I1008 06:33:55.041997 140151631648640 config_util.py:562] Ignoring config override key: record_summaries\n",
            "INFO:tensorflow:Maybe overwriting train_steps: None\n",
            "I1008 06:33:55.042504 140151631648640 config_util.py:552] Maybe overwriting train_steps: None\n",
            "INFO:tensorflow:Maybe overwriting use_bfloat16: False\n",
            "I1008 06:33:55.042584 140151631648640 config_util.py:552] Maybe overwriting use_bfloat16: False\n",
            "WARNING:tensorflow:num_readers has been reduced to 1 to match input file shards.\n",
            "W1008 06:33:55.105731 140151631648640 dataset_builder.py:83] num_readers has been reduced to 1 to match input file shards.\n",
            "WARNING:tensorflow:From /usr/local/lib/python3.6/dist-packages/object_detection/builders/dataset_builder.py:100: parallel_interleave (from tensorflow.python.data.experimental.ops.interleave_ops) is deprecated and will be removed in a future version.\n",
            "Instructions for updating:\n",
            "Use `tf.data.Dataset.interleave(map_func, cycle_length, block_length, num_parallel_calls=tf.data.experimental.AUTOTUNE)` instead. If sloppy execution is desired, use `tf.data.Options.experimental_deterministic`.\n",
            "W1008 06:33:55.109003 140151631648640 deprecation.py:323] From /usr/local/lib/python3.6/dist-packages/object_detection/builders/dataset_builder.py:100: parallel_interleave (from tensorflow.python.data.experimental.ops.interleave_ops) is deprecated and will be removed in a future version.\n",
            "Instructions for updating:\n",
            "Use `tf.data.Dataset.interleave(map_func, cycle_length, block_length, num_parallel_calls=tf.data.experimental.AUTOTUNE)` instead. If sloppy execution is desired, use `tf.data.Options.experimental_deterministic`.\n",
            "WARNING:tensorflow:From /usr/local/lib/python3.6/dist-packages/object_detection/builders/dataset_builder.py:175: DatasetV1.map_with_legacy_function (from tensorflow.python.data.ops.dataset_ops) is deprecated and will be removed in a future version.\n",
            "Instructions for updating:\n",
            "Use `tf.data.Dataset.map()\n",
            "W1008 06:33:55.137811 140151631648640 deprecation.py:323] From /usr/local/lib/python3.6/dist-packages/object_detection/builders/dataset_builder.py:175: DatasetV1.map_with_legacy_function (from tensorflow.python.data.ops.dataset_ops) is deprecated and will be removed in a future version.\n",
            "Instructions for updating:\n",
            "Use `tf.data.Dataset.map()\n",
            "WARNING:tensorflow:From /usr/local/lib/python3.6/dist-packages/tensorflow/python/util/dispatch.py:201: sparse_to_dense (from tensorflow.python.ops.sparse_ops) is deprecated and will be removed in a future version.\n",
            "Instructions for updating:\n",
            "Create a `tf.sparse.SparseTensor` and use `tf.sparse.to_dense` instead.\n",
            "W1008 06:34:00.889516 140151631648640 deprecation.py:323] From /usr/local/lib/python3.6/dist-packages/tensorflow/python/util/dispatch.py:201: sparse_to_dense (from tensorflow.python.ops.sparse_ops) is deprecated and will be removed in a future version.\n",
            "Instructions for updating:\n",
            "Create a `tf.sparse.SparseTensor` and use `tf.sparse.to_dense` instead.\n",
            "WARNING:tensorflow:From /usr/local/lib/python3.6/dist-packages/tensorflow/python/util/dispatch.py:201: sample_distorted_bounding_box (from tensorflow.python.ops.image_ops_impl) is deprecated and will be removed in a future version.\n",
            "Instructions for updating:\n",
            "`seed2` arg is deprecated.Use sample_distorted_bounding_box_v2 instead.\n",
            "W1008 06:34:03.851597 140151631648640 deprecation.py:323] From /usr/local/lib/python3.6/dist-packages/tensorflow/python/util/dispatch.py:201: sample_distorted_bounding_box (from tensorflow.python.ops.image_ops_impl) is deprecated and will be removed in a future version.\n",
            "Instructions for updating:\n",
            "`seed2` arg is deprecated.Use sample_distorted_bounding_box_v2 instead.\n",
            "WARNING:tensorflow:From /usr/local/lib/python3.6/dist-packages/object_detection/inputs.py:259: to_float (from tensorflow.python.ops.math_ops) is deprecated and will be removed in a future version.\n",
            "Instructions for updating:\n",
            "Use `tf.cast` instead.\n",
            "W1008 06:34:05.891231 140151631648640 deprecation.py:323] From /usr/local/lib/python3.6/dist-packages/object_detection/inputs.py:259: to_float (from tensorflow.python.ops.math_ops) is deprecated and will be removed in a future version.\n",
            "Instructions for updating:\n",
            "Use `tf.cast` instead.\n",
            "WARNING:tensorflow:From /usr/local/lib/python3.6/dist-packages/object_detection/model_lib_v2.py:345: set_learning_phase (from tensorflow.python.keras.backend) is deprecated and will be removed after 2020-10-11.\n",
            "Instructions for updating:\n",
            "Simply pass a True/False value to the `training` argument of the `__call__` method of your layer or model.\n",
            "W1008 06:34:08.560531 140148410107648 deprecation.py:323] From /usr/local/lib/python3.6/dist-packages/object_detection/model_lib_v2.py:345: set_learning_phase (from tensorflow.python.keras.backend) is deprecated and will be removed after 2020-10-11.\n",
            "Instructions for updating:\n",
            "Simply pass a True/False value to the `training` argument of the `__call__` method of your layer or model.\n",
            "INFO:tensorflow:depth of additional conv before box predictor: 0\n",
            "I1008 06:34:13.549926 140148410107648 convolutional_keras_box_predictor.py:154] depth of additional conv before box predictor: 0\n",
            "INFO:tensorflow:depth of additional conv before box predictor: 0\n",
            "I1008 06:34:13.550195 140148410107648 convolutional_keras_box_predictor.py:154] depth of additional conv before box predictor: 0\n",
            "INFO:tensorflow:depth of additional conv before box predictor: 0\n",
            "I1008 06:34:13.550350 140148410107648 convolutional_keras_box_predictor.py:154] depth of additional conv before box predictor: 0\n",
            "INFO:tensorflow:depth of additional conv before box predictor: 0\n",
            "I1008 06:34:13.550515 140148410107648 convolutional_keras_box_predictor.py:154] depth of additional conv before box predictor: 0\n",
            "INFO:tensorflow:depth of additional conv before box predictor: 0\n",
            "I1008 06:34:13.550646 140148410107648 convolutional_keras_box_predictor.py:154] depth of additional conv before box predictor: 0\n",
            "INFO:tensorflow:depth of additional conv before box predictor: 0\n",
            "I1008 06:34:13.550770 140148410107648 convolutional_keras_box_predictor.py:154] depth of additional conv before box predictor: 0\n",
            "2020-10-08 06:34:22.283069: I tensorflow/stream_executor/platform/default/dso_loader.cc:48] Successfully opened dynamic library libcublas.so.10\n",
            "2020-10-08 06:34:23.702421: I tensorflow/stream_executor/platform/default/dso_loader.cc:48] Successfully opened dynamic library libcudnn.so.7\n",
            "WARNING:tensorflow:Unresolved object in checkpoint: (root).model._groundtruth_lists\n",
            "W1008 06:34:29.320843 140151631648640 util.py:150] Unresolved object in checkpoint: (root).model._groundtruth_lists\n",
            "WARNING:tensorflow:Unresolved object in checkpoint: (root).model._box_predictor\n",
            "W1008 06:34:29.321202 140151631648640 util.py:150] Unresolved object in checkpoint: (root).model._box_predictor\n",
            "WARNING:tensorflow:Unresolved object in checkpoint: (root).model._batched_prediction_tensor_names\n",
            "W1008 06:34:29.321292 140151631648640 util.py:150] Unresolved object in checkpoint: (root).model._batched_prediction_tensor_names\n",
            "WARNING:tensorflow:Unresolved object in checkpoint: (root).model._box_predictor._prediction_heads\n",
            "W1008 06:34:29.321374 140151631648640 util.py:150] Unresolved object in checkpoint: (root).model._box_predictor._prediction_heads\n",
            "WARNING:tensorflow:Unresolved object in checkpoint: (root).model._box_predictor._sorted_head_names\n",
            "W1008 06:34:29.321459 140151631648640 util.py:150] Unresolved object in checkpoint: (root).model._box_predictor._sorted_head_names\n",
            "WARNING:tensorflow:Unresolved object in checkpoint: (root).model._box_predictor._shared_nets\n",
            "W1008 06:34:29.321527 140151631648640 util.py:150] Unresolved object in checkpoint: (root).model._box_predictor._shared_nets\n",
            "WARNING:tensorflow:Unresolved object in checkpoint: (root).model._box_predictor._prediction_heads.box_encodings\n",
            "W1008 06:34:29.321594 140151631648640 util.py:150] Unresolved object in checkpoint: (root).model._box_predictor._prediction_heads.box_encodings\n",
            "WARNING:tensorflow:Unresolved object in checkpoint: (root).model._box_predictor._prediction_heads.class_predictions_with_background\n",
            "W1008 06:34:29.321660 140151631648640 util.py:150] Unresolved object in checkpoint: (root).model._box_predictor._prediction_heads.class_predictions_with_background\n",
            "WARNING:tensorflow:Unresolved object in checkpoint: (root).model._box_predictor._shared_nets.0\n",
            "W1008 06:34:29.321726 140151631648640 util.py:150] Unresolved object in checkpoint: (root).model._box_predictor._shared_nets.0\n",
            "WARNING:tensorflow:Unresolved object in checkpoint: (root).model._box_predictor._shared_nets.1\n",
            "W1008 06:34:29.321790 140151631648640 util.py:150] Unresolved object in checkpoint: (root).model._box_predictor._shared_nets.1\n",
            "WARNING:tensorflow:Unresolved object in checkpoint: (root).model._box_predictor._shared_nets.2\n",
            "W1008 06:34:29.321855 140151631648640 util.py:150] Unresolved object in checkpoint: (root).model._box_predictor._shared_nets.2\n",
            "WARNING:tensorflow:Unresolved object in checkpoint: (root).model._box_predictor._shared_nets.3\n",
            "W1008 06:34:29.321921 140151631648640 util.py:150] Unresolved object in checkpoint: (root).model._box_predictor._shared_nets.3\n",
            "WARNING:tensorflow:Unresolved object in checkpoint: (root).model._box_predictor._shared_nets.4\n",
            "W1008 06:34:29.322003 140151631648640 util.py:150] Unresolved object in checkpoint: (root).model._box_predictor._shared_nets.4\n",
            "WARNING:tensorflow:Unresolved object in checkpoint: (root).model._box_predictor._shared_nets.5\n",
            "W1008 06:34:29.322068 140151631648640 util.py:150] Unresolved object in checkpoint: (root).model._box_predictor._shared_nets.5\n",
            "WARNING:tensorflow:Unresolved object in checkpoint: (root).model._box_predictor._prediction_heads.box_encodings.0\n",
            "W1008 06:34:29.322146 140151631648640 util.py:150] Unresolved object in checkpoint: (root).model._box_predictor._prediction_heads.box_encodings.0\n",
            "WARNING:tensorflow:Unresolved object in checkpoint: (root).model._box_predictor._prediction_heads.box_encodings.1\n",
            "W1008 06:34:29.322214 140151631648640 util.py:150] Unresolved object in checkpoint: (root).model._box_predictor._prediction_heads.box_encodings.1\n",
            "WARNING:tensorflow:Unresolved object in checkpoint: (root).model._box_predictor._prediction_heads.box_encodings.2\n",
            "W1008 06:34:29.322280 140151631648640 util.py:150] Unresolved object in checkpoint: (root).model._box_predictor._prediction_heads.box_encodings.2\n",
            "WARNING:tensorflow:Unresolved object in checkpoint: (root).model._box_predictor._prediction_heads.box_encodings.3\n",
            "W1008 06:34:29.322352 140151631648640 util.py:150] Unresolved object in checkpoint: (root).model._box_predictor._prediction_heads.box_encodings.3\n",
            "WARNING:tensorflow:Unresolved object in checkpoint: (root).model._box_predictor._prediction_heads.box_encodings.4\n",
            "W1008 06:34:29.322430 140151631648640 util.py:150] Unresolved object in checkpoint: (root).model._box_predictor._prediction_heads.box_encodings.4\n",
            "WARNING:tensorflow:Unresolved object in checkpoint: (root).model._box_predictor._prediction_heads.box_encodings.5\n",
            "W1008 06:34:29.322496 140151631648640 util.py:150] Unresolved object in checkpoint: (root).model._box_predictor._prediction_heads.box_encodings.5\n",
            "WARNING:tensorflow:Unresolved object in checkpoint: (root).model._box_predictor._prediction_heads.class_predictions_with_background.0\n",
            "W1008 06:34:29.322561 140151631648640 util.py:150] Unresolved object in checkpoint: (root).model._box_predictor._prediction_heads.class_predictions_with_background.0\n",
            "WARNING:tensorflow:Unresolved object in checkpoint: (root).model._box_predictor._prediction_heads.class_predictions_with_background.1\n",
            "W1008 06:34:29.322637 140151631648640 util.py:150] Unresolved object in checkpoint: (root).model._box_predictor._prediction_heads.class_predictions_with_background.1\n",
            "WARNING:tensorflow:Unresolved object in checkpoint: (root).model._box_predictor._prediction_heads.class_predictions_with_background.2\n",
            "W1008 06:34:29.322702 140151631648640 util.py:150] Unresolved object in checkpoint: (root).model._box_predictor._prediction_heads.class_predictions_with_background.2\n",
            "WARNING:tensorflow:Unresolved object in checkpoint: (root).model._box_predictor._prediction_heads.class_predictions_with_background.3\n",
            "W1008 06:34:29.322765 140151631648640 util.py:150] Unresolved object in checkpoint: (root).model._box_predictor._prediction_heads.class_predictions_with_background.3\n",
            "WARNING:tensorflow:Unresolved object in checkpoint: (root).model._box_predictor._prediction_heads.class_predictions_with_background.4\n",
            "W1008 06:34:29.322829 140151631648640 util.py:150] Unresolved object in checkpoint: (root).model._box_predictor._prediction_heads.class_predictions_with_background.4\n",
            "WARNING:tensorflow:Unresolved object in checkpoint: (root).model._box_predictor._prediction_heads.class_predictions_with_background.5\n",
            "W1008 06:34:29.322901 140151631648640 util.py:150] Unresolved object in checkpoint: (root).model._box_predictor._prediction_heads.class_predictions_with_background.5\n",
            "WARNING:tensorflow:Unresolved object in checkpoint: (root).model._box_predictor._prediction_heads.box_encodings.0._box_encoder_layers\n",
            "W1008 06:34:29.323014 140151631648640 util.py:150] Unresolved object in checkpoint: (root).model._box_predictor._prediction_heads.box_encodings.0._box_encoder_layers\n",
            "WARNING:tensorflow:Unresolved object in checkpoint: (root).model._box_predictor._prediction_heads.box_encodings.1._box_encoder_layers\n",
            "W1008 06:34:29.323079 140151631648640 util.py:150] Unresolved object in checkpoint: (root).model._box_predictor._prediction_heads.box_encodings.1._box_encoder_layers\n",
            "WARNING:tensorflow:Unresolved object in checkpoint: (root).model._box_predictor._prediction_heads.box_encodings.2._box_encoder_layers\n",
            "W1008 06:34:29.323144 140151631648640 util.py:150] Unresolved object in checkpoint: (root).model._box_predictor._prediction_heads.box_encodings.2._box_encoder_layers\n",
            "WARNING:tensorflow:Unresolved object in checkpoint: (root).model._box_predictor._prediction_heads.box_encodings.3._box_encoder_layers\n",
            "W1008 06:34:29.323213 140151631648640 util.py:150] Unresolved object in checkpoint: (root).model._box_predictor._prediction_heads.box_encodings.3._box_encoder_layers\n",
            "WARNING:tensorflow:Unresolved object in checkpoint: (root).model._box_predictor._prediction_heads.box_encodings.4._box_encoder_layers\n",
            "W1008 06:34:29.323280 140151631648640 util.py:150] Unresolved object in checkpoint: (root).model._box_predictor._prediction_heads.box_encodings.4._box_encoder_layers\n",
            "WARNING:tensorflow:Unresolved object in checkpoint: (root).model._box_predictor._prediction_heads.box_encodings.5._box_encoder_layers\n",
            "W1008 06:34:29.323352 140151631648640 util.py:150] Unresolved object in checkpoint: (root).model._box_predictor._prediction_heads.box_encodings.5._box_encoder_layers\n",
            "WARNING:tensorflow:Unresolved object in checkpoint: (root).model._box_predictor._prediction_heads.class_predictions_with_background.0._class_predictor_layers\n",
            "W1008 06:34:29.323430 140151631648640 util.py:150] Unresolved object in checkpoint: (root).model._box_predictor._prediction_heads.class_predictions_with_background.0._class_predictor_layers\n",
            "WARNING:tensorflow:Unresolved object in checkpoint: (root).model._box_predictor._prediction_heads.class_predictions_with_background.1._class_predictor_layers\n",
            "W1008 06:34:29.323501 140151631648640 util.py:150] Unresolved object in checkpoint: (root).model._box_predictor._prediction_heads.class_predictions_with_background.1._class_predictor_layers\n",
            "WARNING:tensorflow:Unresolved object in checkpoint: (root).model._box_predictor._prediction_heads.class_predictions_with_background.2._class_predictor_layers\n",
            "W1008 06:34:29.323585 140151631648640 util.py:150] Unresolved object in checkpoint: (root).model._box_predictor._prediction_heads.class_predictions_with_background.2._class_predictor_layers\n",
            "WARNING:tensorflow:Unresolved object in checkpoint: (root).model._box_predictor._prediction_heads.class_predictions_with_background.3._class_predictor_layers\n",
            "W1008 06:34:29.323653 140151631648640 util.py:150] Unresolved object in checkpoint: (root).model._box_predictor._prediction_heads.class_predictions_with_background.3._class_predictor_layers\n",
            "WARNING:tensorflow:Unresolved object in checkpoint: (root).model._box_predictor._prediction_heads.class_predictions_with_background.4._class_predictor_layers\n",
            "W1008 06:34:29.323720 140151631648640 util.py:150] Unresolved object in checkpoint: (root).model._box_predictor._prediction_heads.class_predictions_with_background.4._class_predictor_layers\n",
            "WARNING:tensorflow:Unresolved object in checkpoint: (root).model._box_predictor._prediction_heads.class_predictions_with_background.5._class_predictor_layers\n",
            "W1008 06:34:29.323787 140151631648640 util.py:150] Unresolved object in checkpoint: (root).model._box_predictor._prediction_heads.class_predictions_with_background.5._class_predictor_layers\n",
            "WARNING:tensorflow:Unresolved object in checkpoint: (root).model._box_predictor._prediction_heads.box_encodings.0._box_encoder_layers.0\n",
            "W1008 06:34:29.323860 140151631648640 util.py:150] Unresolved object in checkpoint: (root).model._box_predictor._prediction_heads.box_encodings.0._box_encoder_layers.0\n",
            "WARNING:tensorflow:Unresolved object in checkpoint: (root).model._box_predictor._prediction_heads.box_encodings.1._box_encoder_layers.0\n",
            "W1008 06:34:29.323928 140151631648640 util.py:150] Unresolved object in checkpoint: (root).model._box_predictor._prediction_heads.box_encodings.1._box_encoder_layers.0\n",
            "WARNING:tensorflow:Unresolved object in checkpoint: (root).model._box_predictor._prediction_heads.box_encodings.2._box_encoder_layers.0\n",
            "W1008 06:34:29.323995 140151631648640 util.py:150] Unresolved object in checkpoint: (root).model._box_predictor._prediction_heads.box_encodings.2._box_encoder_layers.0\n",
            "WARNING:tensorflow:Unresolved object in checkpoint: (root).model._box_predictor._prediction_heads.box_encodings.3._box_encoder_layers.0\n",
            "W1008 06:34:29.324061 140151631648640 util.py:150] Unresolved object in checkpoint: (root).model._box_predictor._prediction_heads.box_encodings.3._box_encoder_layers.0\n",
            "WARNING:tensorflow:Unresolved object in checkpoint: (root).model._box_predictor._prediction_heads.box_encodings.4._box_encoder_layers.0\n",
            "W1008 06:34:29.324127 140151631648640 util.py:150] Unresolved object in checkpoint: (root).model._box_predictor._prediction_heads.box_encodings.4._box_encoder_layers.0\n",
            "WARNING:tensorflow:Unresolved object in checkpoint: (root).model._box_predictor._prediction_heads.box_encodings.5._box_encoder_layers.0\n",
            "W1008 06:34:29.324195 140151631648640 util.py:150] Unresolved object in checkpoint: (root).model._box_predictor._prediction_heads.box_encodings.5._box_encoder_layers.0\n",
            "WARNING:tensorflow:Unresolved object in checkpoint: (root).model._box_predictor._prediction_heads.class_predictions_with_background.0._class_predictor_layers.0\n",
            "W1008 06:34:29.324265 140151631648640 util.py:150] Unresolved object in checkpoint: (root).model._box_predictor._prediction_heads.class_predictions_with_background.0._class_predictor_layers.0\n",
            "WARNING:tensorflow:Unresolved object in checkpoint: (root).model._box_predictor._prediction_heads.class_predictions_with_background.1._class_predictor_layers.0\n",
            "W1008 06:34:29.324332 140151631648640 util.py:150] Unresolved object in checkpoint: (root).model._box_predictor._prediction_heads.class_predictions_with_background.1._class_predictor_layers.0\n",
            "WARNING:tensorflow:Unresolved object in checkpoint: (root).model._box_predictor._prediction_heads.class_predictions_with_background.2._class_predictor_layers.0\n",
            "W1008 06:34:29.324417 140151631648640 util.py:150] Unresolved object in checkpoint: (root).model._box_predictor._prediction_heads.class_predictions_with_background.2._class_predictor_layers.0\n",
            "WARNING:tensorflow:Unresolved object in checkpoint: (root).model._box_predictor._prediction_heads.class_predictions_with_background.3._class_predictor_layers.0\n",
            "W1008 06:34:29.324484 140151631648640 util.py:150] Unresolved object in checkpoint: (root).model._box_predictor._prediction_heads.class_predictions_with_background.3._class_predictor_layers.0\n",
            "WARNING:tensorflow:Unresolved object in checkpoint: (root).model._box_predictor._prediction_heads.class_predictions_with_background.4._class_predictor_layers.0\n",
            "W1008 06:34:29.324551 140151631648640 util.py:150] Unresolved object in checkpoint: (root).model._box_predictor._prediction_heads.class_predictions_with_background.4._class_predictor_layers.0\n",
            "WARNING:tensorflow:Unresolved object in checkpoint: (root).model._box_predictor._prediction_heads.class_predictions_with_background.5._class_predictor_layers.0\n",
            "W1008 06:34:29.324618 140151631648640 util.py:150] Unresolved object in checkpoint: (root).model._box_predictor._prediction_heads.class_predictions_with_background.5._class_predictor_layers.0\n",
            "WARNING:tensorflow:Unresolved object in checkpoint: (root).model._box_predictor._prediction_heads.box_encodings.0._box_encoder_layers.0.kernel\n",
            "W1008 06:34:29.324693 140151631648640 util.py:150] Unresolved object in checkpoint: (root).model._box_predictor._prediction_heads.box_encodings.0._box_encoder_layers.0.kernel\n",
            "WARNING:tensorflow:Unresolved object in checkpoint: (root).model._box_predictor._prediction_heads.box_encodings.0._box_encoder_layers.0.bias\n",
            "W1008 06:34:29.324768 140151631648640 util.py:150] Unresolved object in checkpoint: (root).model._box_predictor._prediction_heads.box_encodings.0._box_encoder_layers.0.bias\n",
            "WARNING:tensorflow:Unresolved object in checkpoint: (root).model._box_predictor._prediction_heads.box_encodings.1._box_encoder_layers.0.kernel\n",
            "W1008 06:34:29.324832 140151631648640 util.py:150] Unresolved object in checkpoint: (root).model._box_predictor._prediction_heads.box_encodings.1._box_encoder_layers.0.kernel\n",
            "WARNING:tensorflow:Unresolved object in checkpoint: (root).model._box_predictor._prediction_heads.box_encodings.1._box_encoder_layers.0.bias\n",
            "W1008 06:34:29.324906 140151631648640 util.py:150] Unresolved object in checkpoint: (root).model._box_predictor._prediction_heads.box_encodings.1._box_encoder_layers.0.bias\n",
            "WARNING:tensorflow:Unresolved object in checkpoint: (root).model._box_predictor._prediction_heads.box_encodings.2._box_encoder_layers.0.kernel\n",
            "W1008 06:34:29.324967 140151631648640 util.py:150] Unresolved object in checkpoint: (root).model._box_predictor._prediction_heads.box_encodings.2._box_encoder_layers.0.kernel\n",
            "WARNING:tensorflow:Unresolved object in checkpoint: (root).model._box_predictor._prediction_heads.box_encodings.2._box_encoder_layers.0.bias\n",
            "W1008 06:34:29.325027 140151631648640 util.py:150] Unresolved object in checkpoint: (root).model._box_predictor._prediction_heads.box_encodings.2._box_encoder_layers.0.bias\n",
            "WARNING:tensorflow:Unresolved object in checkpoint: (root).model._box_predictor._prediction_heads.box_encodings.3._box_encoder_layers.0.kernel\n",
            "W1008 06:34:29.325087 140151631648640 util.py:150] Unresolved object in checkpoint: (root).model._box_predictor._prediction_heads.box_encodings.3._box_encoder_layers.0.kernel\n",
            "WARNING:tensorflow:Unresolved object in checkpoint: (root).model._box_predictor._prediction_heads.box_encodings.3._box_encoder_layers.0.bias\n",
            "W1008 06:34:29.325184 140151631648640 util.py:150] Unresolved object in checkpoint: (root).model._box_predictor._prediction_heads.box_encodings.3._box_encoder_layers.0.bias\n",
            "WARNING:tensorflow:Unresolved object in checkpoint: (root).model._box_predictor._prediction_heads.box_encodings.4._box_encoder_layers.0.kernel\n",
            "W1008 06:34:29.325251 140151631648640 util.py:150] Unresolved object in checkpoint: (root).model._box_predictor._prediction_heads.box_encodings.4._box_encoder_layers.0.kernel\n",
            "WARNING:tensorflow:Unresolved object in checkpoint: (root).model._box_predictor._prediction_heads.box_encodings.4._box_encoder_layers.0.bias\n",
            "W1008 06:34:29.325315 140151631648640 util.py:150] Unresolved object in checkpoint: (root).model._box_predictor._prediction_heads.box_encodings.4._box_encoder_layers.0.bias\n",
            "WARNING:tensorflow:Unresolved object in checkpoint: (root).model._box_predictor._prediction_heads.box_encodings.5._box_encoder_layers.0.kernel\n",
            "W1008 06:34:29.403122 140151631648640 util.py:150] Unresolved object in checkpoint: (root).model._box_predictor._prediction_heads.box_encodings.5._box_encoder_layers.0.kernel\n",
            "WARNING:tensorflow:Unresolved object in checkpoint: (root).model._box_predictor._prediction_heads.box_encodings.5._box_encoder_layers.0.bias\n",
            "W1008 06:34:29.403231 140151631648640 util.py:150] Unresolved object in checkpoint: (root).model._box_predictor._prediction_heads.box_encodings.5._box_encoder_layers.0.bias\n",
            "WARNING:tensorflow:Unresolved object in checkpoint: (root).model._box_predictor._prediction_heads.class_predictions_with_background.0._class_predictor_layers.0.kernel\n",
            "W1008 06:34:29.403314 140151631648640 util.py:150] Unresolved object in checkpoint: (root).model._box_predictor._prediction_heads.class_predictions_with_background.0._class_predictor_layers.0.kernel\n",
            "WARNING:tensorflow:Unresolved object in checkpoint: (root).model._box_predictor._prediction_heads.class_predictions_with_background.0._class_predictor_layers.0.bias\n",
            "W1008 06:34:29.403440 140151631648640 util.py:150] Unresolved object in checkpoint: (root).model._box_predictor._prediction_heads.class_predictions_with_background.0._class_predictor_layers.0.bias\n",
            "WARNING:tensorflow:Unresolved object in checkpoint: (root).model._box_predictor._prediction_heads.class_predictions_with_background.1._class_predictor_layers.0.kernel\n",
            "W1008 06:34:29.403536 140151631648640 util.py:150] Unresolved object in checkpoint: (root).model._box_predictor._prediction_heads.class_predictions_with_background.1._class_predictor_layers.0.kernel\n",
            "WARNING:tensorflow:Unresolved object in checkpoint: (root).model._box_predictor._prediction_heads.class_predictions_with_background.1._class_predictor_layers.0.bias\n",
            "W1008 06:34:29.403616 140151631648640 util.py:150] Unresolved object in checkpoint: (root).model._box_predictor._prediction_heads.class_predictions_with_background.1._class_predictor_layers.0.bias\n",
            "WARNING:tensorflow:Unresolved object in checkpoint: (root).model._box_predictor._prediction_heads.class_predictions_with_background.2._class_predictor_layers.0.kernel\n",
            "W1008 06:34:29.403687 140151631648640 util.py:150] Unresolved object in checkpoint: (root).model._box_predictor._prediction_heads.class_predictions_with_background.2._class_predictor_layers.0.kernel\n",
            "WARNING:tensorflow:Unresolved object in checkpoint: (root).model._box_predictor._prediction_heads.class_predictions_with_background.2._class_predictor_layers.0.bias\n",
            "W1008 06:34:29.403760 140151631648640 util.py:150] Unresolved object in checkpoint: (root).model._box_predictor._prediction_heads.class_predictions_with_background.2._class_predictor_layers.0.bias\n",
            "WARNING:tensorflow:Unresolved object in checkpoint: (root).model._box_predictor._prediction_heads.class_predictions_with_background.3._class_predictor_layers.0.kernel\n",
            "W1008 06:34:29.403837 140151631648640 util.py:150] Unresolved object in checkpoint: (root).model._box_predictor._prediction_heads.class_predictions_with_background.3._class_predictor_layers.0.kernel\n",
            "WARNING:tensorflow:Unresolved object in checkpoint: (root).model._box_predictor._prediction_heads.class_predictions_with_background.3._class_predictor_layers.0.bias\n",
            "W1008 06:34:29.403917 140151631648640 util.py:150] Unresolved object in checkpoint: (root).model._box_predictor._prediction_heads.class_predictions_with_background.3._class_predictor_layers.0.bias\n",
            "WARNING:tensorflow:Unresolved object in checkpoint: (root).model._box_predictor._prediction_heads.class_predictions_with_background.4._class_predictor_layers.0.kernel\n",
            "W1008 06:34:29.403997 140151631648640 util.py:150] Unresolved object in checkpoint: (root).model._box_predictor._prediction_heads.class_predictions_with_background.4._class_predictor_layers.0.kernel\n",
            "WARNING:tensorflow:Unresolved object in checkpoint: (root).model._box_predictor._prediction_heads.class_predictions_with_background.4._class_predictor_layers.0.bias\n",
            "W1008 06:34:29.404072 140151631648640 util.py:150] Unresolved object in checkpoint: (root).model._box_predictor._prediction_heads.class_predictions_with_background.4._class_predictor_layers.0.bias\n",
            "WARNING:tensorflow:Unresolved object in checkpoint: (root).model._box_predictor._prediction_heads.class_predictions_with_background.5._class_predictor_layers.0.kernel\n",
            "W1008 06:34:29.404166 140151631648640 util.py:150] Unresolved object in checkpoint: (root).model._box_predictor._prediction_heads.class_predictions_with_background.5._class_predictor_layers.0.kernel\n",
            "WARNING:tensorflow:Unresolved object in checkpoint: (root).model._box_predictor._prediction_heads.class_predictions_with_background.5._class_predictor_layers.0.bias\n",
            "W1008 06:34:29.404255 140151631648640 util.py:150] Unresolved object in checkpoint: (root).model._box_predictor._prediction_heads.class_predictions_with_background.5._class_predictor_layers.0.bias\n",
            "WARNING:tensorflow:A checkpoint was restored (e.g. tf.train.Checkpoint.restore or tf.keras.Model.load_weights) but not all checkpointed values were used. See above for specific issues. Use expect_partial() on the load status object, e.g. tf.train.Checkpoint.restore(...).expect_partial(), to silence these warnings, or use assert_consumed() to make the check explicit. See https://www.tensorflow.org/guide/checkpoint#loading_mechanics for details.\n",
            "W1008 06:34:29.404348 140151631648640 util.py:158] A checkpoint was restored (e.g. tf.train.Checkpoint.restore or tf.keras.Model.load_weights) but not all checkpointed values were used. See above for specific issues. Use expect_partial() on the load status object, e.g. tf.train.Checkpoint.restore(...).expect_partial(), to silence these warnings, or use assert_consumed() to make the check explicit. See https://www.tensorflow.org/guide/checkpoint#loading_mechanics for details.\n",
            "INFO:tensorflow:Reduce to /job:localhost/replica:0/task:0/device:CPU:0 then broadcast to ('/job:localhost/replica:0/task:0/device:CPU:0',).\n",
            "I1008 06:34:30.180993 140151631648640 cross_device_ops.py:443] Reduce to /job:localhost/replica:0/task:0/device:CPU:0 then broadcast to ('/job:localhost/replica:0/task:0/device:CPU:0',).\n",
            "INFO:tensorflow:Reduce to /job:localhost/replica:0/task:0/device:CPU:0 then broadcast to ('/job:localhost/replica:0/task:0/device:CPU:0',).\n",
            "I1008 06:34:30.182161 140151631648640 cross_device_ops.py:443] Reduce to /job:localhost/replica:0/task:0/device:CPU:0 then broadcast to ('/job:localhost/replica:0/task:0/device:CPU:0',).\n",
            "INFO:tensorflow:Reduce to /job:localhost/replica:0/task:0/device:CPU:0 then broadcast to ('/job:localhost/replica:0/task:0/device:CPU:0',).\n",
            "I1008 06:34:30.183771 140151631648640 cross_device_ops.py:443] Reduce to /job:localhost/replica:0/task:0/device:CPU:0 then broadcast to ('/job:localhost/replica:0/task:0/device:CPU:0',).\n",
            "INFO:tensorflow:Reduce to /job:localhost/replica:0/task:0/device:CPU:0 then broadcast to ('/job:localhost/replica:0/task:0/device:CPU:0',).\n",
            "I1008 06:34:30.184540 140151631648640 cross_device_ops.py:443] Reduce to /job:localhost/replica:0/task:0/device:CPU:0 then broadcast to ('/job:localhost/replica:0/task:0/device:CPU:0',).\n",
            "INFO:tensorflow:Reduce to /job:localhost/replica:0/task:0/device:CPU:0 then broadcast to ('/job:localhost/replica:0/task:0/device:CPU:0',).\n",
            "I1008 06:34:30.186008 140151631648640 cross_device_ops.py:443] Reduce to /job:localhost/replica:0/task:0/device:CPU:0 then broadcast to ('/job:localhost/replica:0/task:0/device:CPU:0',).\n",
            "INFO:tensorflow:Reduce to /job:localhost/replica:0/task:0/device:CPU:0 then broadcast to ('/job:localhost/replica:0/task:0/device:CPU:0',).\n",
            "I1008 06:34:30.186755 140151631648640 cross_device_ops.py:443] Reduce to /job:localhost/replica:0/task:0/device:CPU:0 then broadcast to ('/job:localhost/replica:0/task:0/device:CPU:0',).\n",
            "INFO:tensorflow:Reduce to /job:localhost/replica:0/task:0/device:CPU:0 then broadcast to ('/job:localhost/replica:0/task:0/device:CPU:0',).\n",
            "I1008 06:34:30.188192 140151631648640 cross_device_ops.py:443] Reduce to /job:localhost/replica:0/task:0/device:CPU:0 then broadcast to ('/job:localhost/replica:0/task:0/device:CPU:0',).\n",
            "INFO:tensorflow:Reduce to /job:localhost/replica:0/task:0/device:CPU:0 then broadcast to ('/job:localhost/replica:0/task:0/device:CPU:0',).\n",
            "I1008 06:34:30.188894 140151631648640 cross_device_ops.py:443] Reduce to /job:localhost/replica:0/task:0/device:CPU:0 then broadcast to ('/job:localhost/replica:0/task:0/device:CPU:0',).\n",
            "INFO:tensorflow:Reduce to /job:localhost/replica:0/task:0/device:CPU:0 then broadcast to ('/job:localhost/replica:0/task:0/device:CPU:0',).\n",
            "I1008 06:34:30.190417 140151631648640 cross_device_ops.py:443] Reduce to /job:localhost/replica:0/task:0/device:CPU:0 then broadcast to ('/job:localhost/replica:0/task:0/device:CPU:0',).\n",
            "INFO:tensorflow:Reduce to /job:localhost/replica:0/task:0/device:CPU:0 then broadcast to ('/job:localhost/replica:0/task:0/device:CPU:0',).\n",
            "I1008 06:34:30.191106 140151631648640 cross_device_ops.py:443] Reduce to /job:localhost/replica:0/task:0/device:CPU:0 then broadcast to ('/job:localhost/replica:0/task:0/device:CPU:0',).\n",
            "WARNING:tensorflow:From /usr/local/lib/python3.6/dist-packages/tensorflow/python/util/deprecation.py:574: calling map_fn_v2 (from tensorflow.python.ops.map_fn) with dtype is deprecated and will be removed in a future version.\n",
            "Instructions for updating:\n",
            "Use fn_output_signature instead\n",
            "W1008 06:34:34.393242 140148410107648 deprecation.py:506] From /usr/local/lib/python3.6/dist-packages/tensorflow/python/util/deprecation.py:574: calling map_fn_v2 (from tensorflow.python.ops.map_fn) with dtype is deprecated and will be removed in a future version.\n",
            "Instructions for updating:\n",
            "Use fn_output_signature instead\n",
            "INFO:tensorflow:Step 100 per-step time 0.133s loss=1.325\n",
            "I1008 06:34:57.687854 140151631648640 model_lib_v2.py:635] Step 100 per-step time 0.133s loss=1.325\n",
            "INFO:tensorflow:Step 200 per-step time 0.148s loss=1.212\n",
            "I1008 06:35:13.075736 140151631648640 model_lib_v2.py:635] Step 200 per-step time 0.148s loss=1.212\n",
            "INFO:tensorflow:Step 300 per-step time 0.140s loss=1.689\n",
            "I1008 06:35:28.285058 140151631648640 model_lib_v2.py:635] Step 300 per-step time 0.140s loss=1.689\n",
            "INFO:tensorflow:Step 400 per-step time 0.146s loss=1.196\n",
            "I1008 06:35:43.203763 140151631648640 model_lib_v2.py:635] Step 400 per-step time 0.146s loss=1.196\n",
            "INFO:tensorflow:Step 500 per-step time 0.198s loss=1.225\n",
            "I1008 06:35:58.434540 140151631648640 model_lib_v2.py:635] Step 500 per-step time 0.198s loss=1.225\n",
            "INFO:tensorflow:Step 600 per-step time 0.146s loss=0.849\n",
            "I1008 06:36:13.671842 140151631648640 model_lib_v2.py:635] Step 600 per-step time 0.146s loss=0.849\n",
            "INFO:tensorflow:Step 700 per-step time 0.142s loss=1.603\n",
            "I1008 06:36:28.648543 140151631648640 model_lib_v2.py:635] Step 700 per-step time 0.142s loss=1.603\n",
            "INFO:tensorflow:Step 800 per-step time 0.152s loss=0.921\n",
            "I1008 06:36:43.893141 140151631648640 model_lib_v2.py:635] Step 800 per-step time 0.152s loss=0.921\n",
            "INFO:tensorflow:Step 900 per-step time 0.146s loss=1.000\n",
            "I1008 06:36:58.979428 140151631648640 model_lib_v2.py:635] Step 900 per-step time 0.146s loss=1.000\n",
            "INFO:tensorflow:Step 1000 per-step time 0.150s loss=0.988\n",
            "I1008 06:37:13.918444 140151631648640 model_lib_v2.py:635] Step 1000 per-step time 0.150s loss=0.988\n",
            "INFO:tensorflow:Step 1100 per-step time 0.149s loss=1.008\n",
            "I1008 06:37:29.107874 140151631648640 model_lib_v2.py:635] Step 1100 per-step time 0.149s loss=1.008\n",
            "INFO:tensorflow:Step 1200 per-step time 0.143s loss=1.110\n",
            "I1008 06:37:43.996328 140151631648640 model_lib_v2.py:635] Step 1200 per-step time 0.143s loss=1.110\n",
            "INFO:tensorflow:Step 1300 per-step time 0.145s loss=0.893\n",
            "I1008 06:37:59.031941 140151631648640 model_lib_v2.py:635] Step 1300 per-step time 0.145s loss=0.893\n",
            "INFO:tensorflow:Step 1400 per-step time 0.142s loss=0.989\n",
            "I1008 06:38:13.744783 140151631648640 model_lib_v2.py:635] Step 1400 per-step time 0.142s loss=0.989\n",
            "INFO:tensorflow:Step 1500 per-step time 0.138s loss=1.454\n",
            "I1008 06:38:28.682147 140151631648640 model_lib_v2.py:635] Step 1500 per-step time 0.138s loss=1.454\n",
            "INFO:tensorflow:Step 1600 per-step time 0.158s loss=1.188\n",
            "I1008 06:38:43.637556 140151631648640 model_lib_v2.py:635] Step 1600 per-step time 0.158s loss=1.188\n",
            "INFO:tensorflow:Step 1700 per-step time 0.156s loss=1.355\n",
            "I1008 06:38:58.962572 140151631648640 model_lib_v2.py:635] Step 1700 per-step time 0.156s loss=1.355\n",
            "INFO:tensorflow:Step 1800 per-step time 0.145s loss=1.531\n",
            "I1008 06:39:13.981817 140151631648640 model_lib_v2.py:635] Step 1800 per-step time 0.145s loss=1.531\n",
            "INFO:tensorflow:Step 1900 per-step time 0.147s loss=1.657\n",
            "I1008 06:39:28.999355 140151631648640 model_lib_v2.py:635] Step 1900 per-step time 0.147s loss=1.657\n",
            "INFO:tensorflow:Step 2000 per-step time 0.140s loss=1.262\n",
            "I1008 06:39:43.758013 140151631648640 model_lib_v2.py:635] Step 2000 per-step time 0.140s loss=1.262\n",
            "INFO:tensorflow:Step 2100 per-step time 0.138s loss=0.998\n",
            "I1008 06:39:59.291042 140151631648640 model_lib_v2.py:635] Step 2100 per-step time 0.138s loss=0.998\n",
            "INFO:tensorflow:Step 2200 per-step time 0.150s loss=0.911\n",
            "I1008 06:40:14.414343 140151631648640 model_lib_v2.py:635] Step 2200 per-step time 0.150s loss=0.911\n",
            "INFO:tensorflow:Step 2300 per-step time 0.132s loss=1.044\n",
            "I1008 06:40:29.152656 140151631648640 model_lib_v2.py:635] Step 2300 per-step time 0.132s loss=1.044\n",
            "INFO:tensorflow:Step 2400 per-step time 0.126s loss=0.977\n",
            "I1008 06:40:44.257361 140151631648640 model_lib_v2.py:635] Step 2400 per-step time 0.126s loss=0.977\n",
            "INFO:tensorflow:Step 2500 per-step time 0.165s loss=1.008\n",
            "I1008 06:40:59.214104 140151631648640 model_lib_v2.py:635] Step 2500 per-step time 0.165s loss=1.008\n",
            "INFO:tensorflow:Step 2600 per-step time 0.148s loss=1.245\n",
            "I1008 06:41:14.330003 140151631648640 model_lib_v2.py:635] Step 2600 per-step time 0.148s loss=1.245\n",
            "INFO:tensorflow:Step 2700 per-step time 0.143s loss=0.998\n",
            "I1008 06:41:29.365741 140151631648640 model_lib_v2.py:635] Step 2700 per-step time 0.143s loss=0.998\n",
            "INFO:tensorflow:Step 2800 per-step time 0.140s loss=0.995\n",
            "I1008 06:41:44.410460 140151631648640 model_lib_v2.py:635] Step 2800 per-step time 0.140s loss=0.995\n",
            "INFO:tensorflow:Step 2900 per-step time 0.147s loss=1.098\n",
            "I1008 06:41:59.485405 140151631648640 model_lib_v2.py:635] Step 2900 per-step time 0.147s loss=1.098\n",
            "INFO:tensorflow:Step 3000 per-step time 0.135s loss=0.933\n",
            "I1008 06:42:14.537117 140151631648640 model_lib_v2.py:635] Step 3000 per-step time 0.135s loss=0.933\n",
            "INFO:tensorflow:Step 3100 per-step time 0.134s loss=0.815\n",
            "I1008 06:42:29.775522 140151631648640 model_lib_v2.py:635] Step 3100 per-step time 0.134s loss=0.815\n",
            "INFO:tensorflow:Step 3200 per-step time 0.152s loss=3.448\n",
            "I1008 06:42:44.600696 140151631648640 model_lib_v2.py:635] Step 3200 per-step time 0.152s loss=3.448\n",
            "INFO:tensorflow:Step 3300 per-step time 0.142s loss=3.315\n",
            "I1008 06:42:59.573687 140151631648640 model_lib_v2.py:635] Step 3300 per-step time 0.142s loss=3.315\n",
            "INFO:tensorflow:Step 3400 per-step time 0.151s loss=3.183\n",
            "I1008 06:43:14.590740 140151631648640 model_lib_v2.py:635] Step 3400 per-step time 0.151s loss=3.183\n",
            "INFO:tensorflow:Step 3500 per-step time 0.148s loss=3.052\n",
            "I1008 06:43:29.633069 140151631648640 model_lib_v2.py:635] Step 3500 per-step time 0.148s loss=3.052\n",
            "INFO:tensorflow:Step 3600 per-step time 0.147s loss=2.969\n",
            "I1008 06:43:44.649716 140151631648640 model_lib_v2.py:635] Step 3600 per-step time 0.147s loss=2.969\n",
            "INFO:tensorflow:Step 3700 per-step time 0.142s loss=2.548\n",
            "I1008 06:43:59.863123 140151631648640 model_lib_v2.py:635] Step 3700 per-step time 0.142s loss=2.548\n",
            "INFO:tensorflow:Step 3800 per-step time 0.152s loss=2.410\n",
            "I1008 06:44:14.530014 140151631648640 model_lib_v2.py:635] Step 3800 per-step time 0.152s loss=2.410\n",
            "INFO:tensorflow:Step 3900 per-step time 0.139s loss=2.418\n",
            "I1008 06:44:29.756914 140151631648640 model_lib_v2.py:635] Step 3900 per-step time 0.139s loss=2.418\n",
            "INFO:tensorflow:Step 4000 per-step time 0.151s loss=2.487\n",
            "I1008 06:44:44.730270 140151631648640 model_lib_v2.py:635] Step 4000 per-step time 0.151s loss=2.487\n",
            "INFO:tensorflow:Step 4100 per-step time 0.115s loss=2.929\n",
            "I1008 06:44:59.923496 140151631648640 model_lib_v2.py:635] Step 4100 per-step time 0.115s loss=2.929\n",
            "INFO:tensorflow:Step 4200 per-step time 0.146s loss=2.213\n",
            "I1008 06:45:14.993024 140151631648640 model_lib_v2.py:635] Step 4200 per-step time 0.146s loss=2.213\n",
            "INFO:tensorflow:Step 4300 per-step time 0.147s loss=2.066\n",
            "I1008 06:45:30.458623 140151631648640 model_lib_v2.py:635] Step 4300 per-step time 0.147s loss=2.066\n",
            "INFO:tensorflow:Step 4400 per-step time 0.145s loss=1.967\n",
            "I1008 06:45:45.643879 140151631648640 model_lib_v2.py:635] Step 4400 per-step time 0.145s loss=1.967\n",
            "INFO:tensorflow:Step 4500 per-step time 0.159s loss=2.239\n",
            "I1008 06:46:00.897114 140151631648640 model_lib_v2.py:635] Step 4500 per-step time 0.159s loss=2.239\n",
            "INFO:tensorflow:Step 4600 per-step time 0.166s loss=1.830\n",
            "I1008 06:46:16.209751 140151631648640 model_lib_v2.py:635] Step 4600 per-step time 0.166s loss=1.830\n",
            "INFO:tensorflow:Step 4700 per-step time 0.140s loss=1.823\n",
            "I1008 06:46:31.335746 140151631648640 model_lib_v2.py:635] Step 4700 per-step time 0.140s loss=1.823\n",
            "INFO:tensorflow:Step 4800 per-step time 0.144s loss=1.781\n",
            "I1008 06:46:46.454646 140151631648640 model_lib_v2.py:635] Step 4800 per-step time 0.144s loss=1.781\n",
            "INFO:tensorflow:Step 4900 per-step time 0.146s loss=1.730\n",
            "I1008 06:47:01.756021 140151631648640 model_lib_v2.py:635] Step 4900 per-step time 0.146s loss=1.730\n",
            "INFO:tensorflow:Step 5000 per-step time 0.150s loss=1.720\n",
            "I1008 06:47:17.012843 140151631648640 model_lib_v2.py:635] Step 5000 per-step time 0.150s loss=1.720\n",
            "INFO:tensorflow:Step 5100 per-step time 0.145s loss=1.695\n",
            "I1008 06:47:32.363656 140151631648640 model_lib_v2.py:635] Step 5100 per-step time 0.145s loss=1.695\n",
            "INFO:tensorflow:Step 5200 per-step time 0.147s loss=1.708\n",
            "I1008 06:47:47.414416 140151631648640 model_lib_v2.py:635] Step 5200 per-step time 0.147s loss=1.708\n",
            "INFO:tensorflow:Step 5300 per-step time 0.159s loss=1.795\n",
            "I1008 06:48:02.662948 140151631648640 model_lib_v2.py:635] Step 5300 per-step time 0.159s loss=1.795\n",
            "INFO:tensorflow:Step 5400 per-step time 0.152s loss=1.402\n",
            "I1008 06:48:17.678025 140151631648640 model_lib_v2.py:635] Step 5400 per-step time 0.152s loss=1.402\n",
            "INFO:tensorflow:Step 5500 per-step time 0.160s loss=1.648\n",
            "I1008 06:48:32.984175 140151631648640 model_lib_v2.py:635] Step 5500 per-step time 0.160s loss=1.648\n",
            "INFO:tensorflow:Step 5600 per-step time 0.130s loss=1.670\n",
            "I1008 06:48:47.969640 140151631648640 model_lib_v2.py:635] Step 5600 per-step time 0.130s loss=1.670\n",
            "INFO:tensorflow:Step 5700 per-step time 0.142s loss=1.485\n",
            "I1008 06:49:02.809595 140151631648640 model_lib_v2.py:635] Step 5700 per-step time 0.142s loss=1.485\n",
            "INFO:tensorflow:Step 5800 per-step time 0.153s loss=1.666\n",
            "I1008 06:49:17.767476 140151631648640 model_lib_v2.py:635] Step 5800 per-step time 0.153s loss=1.666\n",
            "INFO:tensorflow:Step 5900 per-step time 0.153s loss=1.634\n",
            "I1008 06:49:32.993438 140151631648640 model_lib_v2.py:635] Step 5900 per-step time 0.153s loss=1.634\n",
            "INFO:tensorflow:Step 6000 per-step time 0.146s loss=1.407\n",
            "I1008 06:49:47.941462 140151631648640 model_lib_v2.py:635] Step 6000 per-step time 0.146s loss=1.407\n",
            "INFO:tensorflow:Step 6100 per-step time 0.147s loss=1.437\n",
            "I1008 06:50:03.526590 140151631648640 model_lib_v2.py:635] Step 6100 per-step time 0.147s loss=1.437\n",
            "INFO:tensorflow:Step 6200 per-step time 0.173s loss=1.348\n",
            "I1008 06:50:18.337602 140151631648640 model_lib_v2.py:635] Step 6200 per-step time 0.173s loss=1.348\n",
            "INFO:tensorflow:Step 6300 per-step time 0.144s loss=1.312\n",
            "I1008 06:50:33.800742 140151631648640 model_lib_v2.py:635] Step 6300 per-step time 0.144s loss=1.312\n",
            "INFO:tensorflow:Step 6400 per-step time 0.156s loss=1.170\n",
            "I1008 06:50:49.039409 140151631648640 model_lib_v2.py:635] Step 6400 per-step time 0.156s loss=1.170\n",
            "INFO:tensorflow:Step 6500 per-step time 0.149s loss=1.286\n",
            "I1008 06:51:04.035018 140151631648640 model_lib_v2.py:635] Step 6500 per-step time 0.149s loss=1.286\n",
            "INFO:tensorflow:Step 6600 per-step time 0.137s loss=1.220\n",
            "I1008 06:51:19.583816 140151631648640 model_lib_v2.py:635] Step 6600 per-step time 0.137s loss=1.220\n",
            "INFO:tensorflow:Step 6700 per-step time 0.144s loss=1.313\n",
            "I1008 06:51:34.868574 140151631648640 model_lib_v2.py:635] Step 6700 per-step time 0.144s loss=1.313\n",
            "INFO:tensorflow:Step 6800 per-step time 0.140s loss=1.336\n",
            "I1008 06:51:50.063458 140151631648640 model_lib_v2.py:635] Step 6800 per-step time 0.140s loss=1.336\n",
            "INFO:tensorflow:Step 6900 per-step time 0.161s loss=1.137\n",
            "I1008 06:52:05.271589 140151631648640 model_lib_v2.py:635] Step 6900 per-step time 0.161s loss=1.137\n",
            "INFO:tensorflow:Step 7000 per-step time 0.156s loss=1.075\n",
            "I1008 06:52:20.517232 140151631648640 model_lib_v2.py:635] Step 7000 per-step time 0.156s loss=1.075\n",
            "INFO:tensorflow:Step 7100 per-step time 0.151s loss=1.002\n",
            "I1008 06:52:36.033627 140151631648640 model_lib_v2.py:635] Step 7100 per-step time 0.151s loss=1.002\n",
            "INFO:tensorflow:Step 7200 per-step time 0.142s loss=0.881\n",
            "I1008 06:52:51.457704 140151631648640 model_lib_v2.py:635] Step 7200 per-step time 0.142s loss=0.881\n",
            "INFO:tensorflow:Step 7300 per-step time 0.166s loss=1.012\n",
            "I1008 06:53:06.680220 140151631648640 model_lib_v2.py:635] Step 7300 per-step time 0.166s loss=1.012\n",
            "INFO:tensorflow:Step 7400 per-step time 0.142s loss=1.196\n",
            "I1008 06:53:21.787660 140151631648640 model_lib_v2.py:635] Step 7400 per-step time 0.142s loss=1.196\n",
            "INFO:tensorflow:Step 7500 per-step time 0.155s loss=1.353\n",
            "I1008 06:53:37.358810 140151631648640 model_lib_v2.py:635] Step 7500 per-step time 0.155s loss=1.353\n",
            "INFO:tensorflow:Step 7600 per-step time 0.152s loss=0.937\n",
            "I1008 06:53:52.399532 140151631648640 model_lib_v2.py:635] Step 7600 per-step time 0.152s loss=0.937\n",
            "INFO:tensorflow:Step 7700 per-step time 0.139s loss=0.898\n",
            "I1008 06:54:07.501590 140151631648640 model_lib_v2.py:635] Step 7700 per-step time 0.139s loss=0.898\n",
            "INFO:tensorflow:Step 7800 per-step time 0.153s loss=1.015\n",
            "I1008 06:54:22.699209 140151631648640 model_lib_v2.py:635] Step 7800 per-step time 0.153s loss=1.015\n",
            "INFO:tensorflow:Step 7900 per-step time 0.132s loss=1.019\n",
            "I1008 06:54:37.936036 140151631648640 model_lib_v2.py:635] Step 7900 per-step time 0.132s loss=1.019\n",
            "INFO:tensorflow:Step 8000 per-step time 0.155s loss=0.862\n",
            "I1008 06:54:53.135719 140151631648640 model_lib_v2.py:635] Step 8000 per-step time 0.155s loss=0.862\n",
            "INFO:tensorflow:Step 8100 per-step time 0.175s loss=0.960\n",
            "I1008 06:55:08.688282 140151631648640 model_lib_v2.py:635] Step 8100 per-step time 0.175s loss=0.960\n",
            "INFO:tensorflow:Step 8200 per-step time 0.166s loss=0.908\n",
            "I1008 06:55:24.029823 140151631648640 model_lib_v2.py:635] Step 8200 per-step time 0.166s loss=0.908\n",
            "INFO:tensorflow:Step 8300 per-step time 0.156s loss=1.014\n",
            "I1008 06:55:39.362513 140151631648640 model_lib_v2.py:635] Step 8300 per-step time 0.156s loss=1.014\n",
            "INFO:tensorflow:Step 8400 per-step time 0.155s loss=0.786\n",
            "I1008 06:55:54.698793 140151631648640 model_lib_v2.py:635] Step 8400 per-step time 0.155s loss=0.786\n",
            "INFO:tensorflow:Step 8500 per-step time 0.140s loss=0.943\n",
            "I1008 06:56:10.144258 140151631648640 model_lib_v2.py:635] Step 8500 per-step time 0.140s loss=0.943\n",
            "INFO:tensorflow:Step 8600 per-step time 0.131s loss=0.877\n",
            "I1008 06:56:25.487100 140151631648640 model_lib_v2.py:635] Step 8600 per-step time 0.131s loss=0.877\n",
            "INFO:tensorflow:Step 8700 per-step time 0.148s loss=1.038\n",
            "I1008 06:56:40.956476 140151631648640 model_lib_v2.py:635] Step 8700 per-step time 0.148s loss=1.038\n",
            "INFO:tensorflow:Step 8800 per-step time 0.141s loss=0.847\n",
            "I1008 06:56:56.241853 140151631648640 model_lib_v2.py:635] Step 8800 per-step time 0.141s loss=0.847\n",
            "INFO:tensorflow:Step 8900 per-step time 0.136s loss=1.127\n",
            "I1008 06:57:11.636300 140151631648640 model_lib_v2.py:635] Step 8900 per-step time 0.136s loss=1.127\n",
            "INFO:tensorflow:Step 9000 per-step time 0.159s loss=0.847\n",
            "I1008 06:57:26.878018 140151631648640 model_lib_v2.py:635] Step 9000 per-step time 0.159s loss=0.847\n",
            "INFO:tensorflow:Step 9100 per-step time 0.153s loss=1.015\n",
            "I1008 06:57:42.584916 140151631648640 model_lib_v2.py:635] Step 9100 per-step time 0.153s loss=1.015\n",
            "INFO:tensorflow:Step 9200 per-step time 0.139s loss=0.916\n",
            "I1008 06:57:57.858249 140151631648640 model_lib_v2.py:635] Step 9200 per-step time 0.139s loss=0.916\n",
            "INFO:tensorflow:Step 9300 per-step time 0.151s loss=0.955\n",
            "I1008 06:58:13.458966 140151631648640 model_lib_v2.py:635] Step 9300 per-step time 0.151s loss=0.955\n",
            "INFO:tensorflow:Step 9400 per-step time 0.161s loss=1.073\n",
            "I1008 06:58:28.828610 140151631648640 model_lib_v2.py:635] Step 9400 per-step time 0.161s loss=1.073\n",
            "INFO:tensorflow:Step 9500 per-step time 0.145s loss=0.963\n",
            "I1008 06:58:44.005045 140151631648640 model_lib_v2.py:635] Step 9500 per-step time 0.145s loss=0.963\n",
            "INFO:tensorflow:Step 9600 per-step time 0.157s loss=0.936\n",
            "I1008 06:58:59.279543 140151631648640 model_lib_v2.py:635] Step 9600 per-step time 0.157s loss=0.936\n",
            "INFO:tensorflow:Step 9700 per-step time 0.156s loss=1.154\n",
            "I1008 06:59:14.541380 140151631648640 model_lib_v2.py:635] Step 9700 per-step time 0.156s loss=1.154\n",
            "INFO:tensorflow:Step 9800 per-step time 0.145s loss=0.934\n",
            "I1008 06:59:29.632145 140151631648640 model_lib_v2.py:635] Step 9800 per-step time 0.145s loss=0.934\n",
            "INFO:tensorflow:Step 9900 per-step time 0.138s loss=0.877\n",
            "I1008 06:59:44.472228 140151631648640 model_lib_v2.py:635] Step 9900 per-step time 0.138s loss=0.877\n",
            "INFO:tensorflow:Step 10000 per-step time 0.158s loss=0.825\n",
            "I1008 06:59:59.690903 140151631648640 model_lib_v2.py:635] Step 10000 per-step time 0.158s loss=0.825\n"
          ],
          "name": "stdout"
        }
      ]
    },
    {
      "cell_type": "code",
      "metadata": {
        "id": "elOKG6onhM0q",
        "outputId": "06da02ed-338b-48f0-c3ce-a4cbc882b2ec",
        "colab": {
          "base_uri": "https://localhost:8080/",
          "height": 34
        }
      },
      "source": [
        "%cd '//content/workspace/training_demo'"
      ],
      "execution_count": null,
      "outputs": [
        {
          "output_type": "stream",
          "text": [
            "/content/workspace/training_demo\n"
          ],
          "name": "stdout"
        }
      ]
    },
    {
      "cell_type": "code",
      "metadata": {
        "id": "AMY1UWSVZWvz",
        "outputId": "3e6b62ea-4b3a-41b3-a6ba-01d04c8655a0",
        "colab": {
          "base_uri": "https://localhost:8080/",
          "height": 1000
        }
      },
      "source": [
        "!python ./exporter_main_v2.py --input_type=image_tensor --pipeline_config_path=./models/my_ssd_mobilenet_v2/pipeline.config --trained_checkpoint_dir=./models/my_ssd_mobilenet_v2/ --output_directory=./exported-model/my_model"
      ],
      "execution_count": null,
      "outputs": [
        {
          "output_type": "stream",
          "text": [
            "2020-10-08 07:00:33.541687: I tensorflow/stream_executor/platform/default/dso_loader.cc:48] Successfully opened dynamic library libcudart.so.10.1\n",
            "2020-10-08 07:00:35.347041: I tensorflow/stream_executor/platform/default/dso_loader.cc:48] Successfully opened dynamic library libcuda.so.1\n",
            "2020-10-08 07:00:35.368912: I tensorflow/stream_executor/cuda/cuda_gpu_executor.cc:982] successful NUMA node read from SysFS had negative value (-1), but there must be at least one NUMA node, so returning NUMA node zero\n",
            "2020-10-08 07:00:35.369511: I tensorflow/core/common_runtime/gpu/gpu_device.cc:1716] Found device 0 with properties: \n",
            "pciBusID: 0000:00:04.0 name: Tesla P4 computeCapability: 6.1\n",
            "coreClock: 1.1135GHz coreCount: 20 deviceMemorySize: 7.43GiB deviceMemoryBandwidth: 178.99GiB/s\n",
            "2020-10-08 07:00:35.369550: I tensorflow/stream_executor/platform/default/dso_loader.cc:48] Successfully opened dynamic library libcudart.so.10.1\n",
            "2020-10-08 07:00:35.371280: I tensorflow/stream_executor/platform/default/dso_loader.cc:48] Successfully opened dynamic library libcublas.so.10\n",
            "2020-10-08 07:00:35.372850: I tensorflow/stream_executor/platform/default/dso_loader.cc:48] Successfully opened dynamic library libcufft.so.10\n",
            "2020-10-08 07:00:35.373190: I tensorflow/stream_executor/platform/default/dso_loader.cc:48] Successfully opened dynamic library libcurand.so.10\n",
            "2020-10-08 07:00:35.375026: I tensorflow/stream_executor/platform/default/dso_loader.cc:48] Successfully opened dynamic library libcusolver.so.10\n",
            "2020-10-08 07:00:35.375896: I tensorflow/stream_executor/platform/default/dso_loader.cc:48] Successfully opened dynamic library libcusparse.so.10\n",
            "2020-10-08 07:00:35.379841: I tensorflow/stream_executor/platform/default/dso_loader.cc:48] Successfully opened dynamic library libcudnn.so.7\n",
            "2020-10-08 07:00:35.379955: I tensorflow/stream_executor/cuda/cuda_gpu_executor.cc:982] successful NUMA node read from SysFS had negative value (-1), but there must be at least one NUMA node, so returning NUMA node zero\n",
            "2020-10-08 07:00:35.380569: I tensorflow/stream_executor/cuda/cuda_gpu_executor.cc:982] successful NUMA node read from SysFS had negative value (-1), but there must be at least one NUMA node, so returning NUMA node zero\n",
            "2020-10-08 07:00:35.381129: I tensorflow/core/common_runtime/gpu/gpu_device.cc:1858] Adding visible gpu devices: 0\n",
            "2020-10-08 07:00:35.381472: I tensorflow/core/platform/cpu_feature_guard.cc:142] This TensorFlow binary is optimized with oneAPI Deep Neural Network Library (oneDNN)to use the following CPU instructions in performance-critical operations:  AVX2 AVX512F FMA\n",
            "To enable them in other operations, rebuild TensorFlow with the appropriate compiler flags.\n",
            "2020-10-08 07:00:35.386656: I tensorflow/core/platform/profile_utils/cpu_utils.cc:104] CPU Frequency: 2000150000 Hz\n",
            "2020-10-08 07:00:35.386831: I tensorflow/compiler/xla/service/service.cc:168] XLA service 0x2f05800 initialized for platform Host (this does not guarantee that XLA will be used). Devices:\n",
            "2020-10-08 07:00:35.386859: I tensorflow/compiler/xla/service/service.cc:176]   StreamExecutor device (0): Host, Default Version\n",
            "2020-10-08 07:00:35.477227: I tensorflow/stream_executor/cuda/cuda_gpu_executor.cc:982] successful NUMA node read from SysFS had negative value (-1), but there must be at least one NUMA node, so returning NUMA node zero\n",
            "2020-10-08 07:00:35.477727: I tensorflow/compiler/xla/service/service.cc:168] XLA service 0x2f059c0 initialized for platform CUDA (this does not guarantee that XLA will be used). Devices:\n",
            "2020-10-08 07:00:35.477761: I tensorflow/compiler/xla/service/service.cc:176]   StreamExecutor device (0): Tesla P4, Compute Capability 6.1\n",
            "2020-10-08 07:00:35.477936: I tensorflow/stream_executor/cuda/cuda_gpu_executor.cc:982] successful NUMA node read from SysFS had negative value (-1), but there must be at least one NUMA node, so returning NUMA node zero\n",
            "2020-10-08 07:00:35.478377: I tensorflow/core/common_runtime/gpu/gpu_device.cc:1716] Found device 0 with properties: \n",
            "pciBusID: 0000:00:04.0 name: Tesla P4 computeCapability: 6.1\n",
            "coreClock: 1.1135GHz coreCount: 20 deviceMemorySize: 7.43GiB deviceMemoryBandwidth: 178.99GiB/s\n",
            "2020-10-08 07:00:35.478441: I tensorflow/stream_executor/platform/default/dso_loader.cc:48] Successfully opened dynamic library libcudart.so.10.1\n",
            "2020-10-08 07:00:35.478487: I tensorflow/stream_executor/platform/default/dso_loader.cc:48] Successfully opened dynamic library libcublas.so.10\n",
            "2020-10-08 07:00:35.478522: I tensorflow/stream_executor/platform/default/dso_loader.cc:48] Successfully opened dynamic library libcufft.so.10\n",
            "2020-10-08 07:00:35.478543: I tensorflow/stream_executor/platform/default/dso_loader.cc:48] Successfully opened dynamic library libcurand.so.10\n",
            "2020-10-08 07:00:35.478565: I tensorflow/stream_executor/platform/default/dso_loader.cc:48] Successfully opened dynamic library libcusolver.so.10\n",
            "2020-10-08 07:00:35.478583: I tensorflow/stream_executor/platform/default/dso_loader.cc:48] Successfully opened dynamic library libcusparse.so.10\n",
            "2020-10-08 07:00:35.478602: I tensorflow/stream_executor/platform/default/dso_loader.cc:48] Successfully opened dynamic library libcudnn.so.7\n",
            "2020-10-08 07:00:35.478678: I tensorflow/stream_executor/cuda/cuda_gpu_executor.cc:982] successful NUMA node read from SysFS had negative value (-1), but there must be at least one NUMA node, so returning NUMA node zero\n",
            "2020-10-08 07:00:35.479055: I tensorflow/stream_executor/cuda/cuda_gpu_executor.cc:982] successful NUMA node read from SysFS had negative value (-1), but there must be at least one NUMA node, so returning NUMA node zero\n",
            "2020-10-08 07:00:35.479365: I tensorflow/core/common_runtime/gpu/gpu_device.cc:1858] Adding visible gpu devices: 0\n",
            "2020-10-08 07:00:35.479432: I tensorflow/stream_executor/platform/default/dso_loader.cc:48] Successfully opened dynamic library libcudart.so.10.1\n",
            "2020-10-08 07:00:36.165120: I tensorflow/core/common_runtime/gpu/gpu_device.cc:1257] Device interconnect StreamExecutor with strength 1 edge matrix:\n",
            "2020-10-08 07:00:36.165182: I tensorflow/core/common_runtime/gpu/gpu_device.cc:1263]      0 \n",
            "2020-10-08 07:00:36.165193: I tensorflow/core/common_runtime/gpu/gpu_device.cc:1276] 0:   N \n",
            "2020-10-08 07:00:36.165389: I tensorflow/stream_executor/cuda/cuda_gpu_executor.cc:982] successful NUMA node read from SysFS had negative value (-1), but there must be at least one NUMA node, so returning NUMA node zero\n",
            "2020-10-08 07:00:36.165819: I tensorflow/stream_executor/cuda/cuda_gpu_executor.cc:982] successful NUMA node read from SysFS had negative value (-1), but there must be at least one NUMA node, so returning NUMA node zero\n",
            "2020-10-08 07:00:36.166168: W tensorflow/core/common_runtime/gpu/gpu_bfc_allocator.cc:39] Overriding allow_growth setting because the TF_FORCE_GPU_ALLOW_GROWTH environment variable is set. Original config value was 0.\n",
            "2020-10-08 07:00:36.166225: I tensorflow/core/common_runtime/gpu/gpu_device.cc:1402] Created TensorFlow device (/job:localhost/replica:0/task:0/device:GPU:0 with 6943 MB memory) -> physical GPU (device: 0, name: Tesla P4, pci bus id: 0000:00:04.0, compute capability: 6.1)\n",
            "INFO:tensorflow:depth of additional conv before box predictor: 0\n",
            "I1008 07:00:41.712754 140295621916544 convolutional_keras_box_predictor.py:154] depth of additional conv before box predictor: 0\n",
            "INFO:tensorflow:depth of additional conv before box predictor: 0\n",
            "I1008 07:00:41.713112 140295621916544 convolutional_keras_box_predictor.py:154] depth of additional conv before box predictor: 0\n",
            "INFO:tensorflow:depth of additional conv before box predictor: 0\n",
            "I1008 07:00:41.713332 140295621916544 convolutional_keras_box_predictor.py:154] depth of additional conv before box predictor: 0\n",
            "INFO:tensorflow:depth of additional conv before box predictor: 0\n",
            "I1008 07:00:41.713549 140295621916544 convolutional_keras_box_predictor.py:154] depth of additional conv before box predictor: 0\n",
            "INFO:tensorflow:depth of additional conv before box predictor: 0\n",
            "I1008 07:00:41.713731 140295621916544 convolutional_keras_box_predictor.py:154] depth of additional conv before box predictor: 0\n",
            "INFO:tensorflow:depth of additional conv before box predictor: 0\n",
            "I1008 07:00:41.713905 140295621916544 convolutional_keras_box_predictor.py:154] depth of additional conv before box predictor: 0\n",
            "WARNING:tensorflow:Skipping full serialization of Keras layer <object_detection.meta_architectures.ssd_meta_arch.SSDMetaArch object at 0x7f98c0147588>, because it is not built.\n",
            "W1008 07:00:48.840821 140295621916544 save_impl.py:78] Skipping full serialization of Keras layer <object_detection.meta_architectures.ssd_meta_arch.SSDMetaArch object at 0x7f98c0147588>, because it is not built.\n",
            "2020-10-08 07:00:58.226844: W tensorflow/python/util/util.cc:348] Sets are not currently considered sequences, but this may change in the future, so consider avoiding using them.\n",
            "INFO:tensorflow:Assets written to: ./exported-model/my_model/saved_model/assets\n",
            "I1008 07:01:12.807897 140295621916544 builder_impl.py:775] Assets written to: ./exported-model/my_model/saved_model/assets\n",
            "INFO:tensorflow:Writing pipeline config file to ./exported-model/my_model/pipeline.config\n",
            "I1008 07:01:13.380526 140295621916544 config_util.py:254] Writing pipeline config file to ./exported-model/my_model/pipeline.config\n"
          ],
          "name": "stdout"
        }
      ]
    },
    {
      "cell_type": "code",
      "metadata": {
        "id": "W9Yskh44AwBt"
      },
      "source": [
        "import os\n",
        "os.environ['TF_CPP_MIN_LOG_LEVEL'] = '2'    # Suppress TensorFlow logging (1)\n",
        "import pathlib\n",
        "import tensorflow as tf\n",
        "\n",
        "tf.get_logger().setLevel('ERROR')           # Suppress TensorFlow logging (2)\n",
        "\n",
        "# Enable GPU dynamic memory allocation\n",
        "gpus = tf.config.experimental.list_physical_devices('GPU')\n",
        "for gpu in gpus:\n",
        "    tf.config.experimental.set_memory_growth(gpu, True)"
      ],
      "execution_count": null,
      "outputs": []
    },
    {
      "cell_type": "code",
      "metadata": {
        "id": "hMLrq0RXvx-v",
        "outputId": "baab3c92-fb6d-4ba9-9422-8b5c9854eaf8",
        "colab": {
          "base_uri": "https://localhost:8080/",
          "height": 34
        }
      },
      "source": [
        "import time\n",
        "from object_detection.utils import label_map_util\n",
        "from object_detection.utils import visualization_utils as viz_utils\n",
        "\n",
        "PATH_TO_SAVED_MODEL = \"//content/workspace/training_demo/exported-model/my_model/saved_model\"\n",
        "\n",
        "print('Loading model...', end='')\n",
        "start_time = time.time()\n",
        "\n",
        "# Load saved model and build the detection function\n",
        "detect_fn = tf.saved_model.load(PATH_TO_SAVED_MODEL)\n",
        "\n",
        "end_time = time.time()\n",
        "elapsed_time = end_time - start_time\n",
        "print('Done! Took {} seconds'.format(elapsed_time))"
      ],
      "execution_count": null,
      "outputs": [
        {
          "output_type": "stream",
          "text": [
            "Loading model...Done! Took 9.799667358398438 seconds\n"
          ],
          "name": "stdout"
        }
      ]
    },
    {
      "cell_type": "code",
      "metadata": {
        "id": "nfyqYlZPvyCn"
      },
      "source": [
        "category_index = label_map_util.create_category_index_from_labelmap(\"//content/workspace/training_demo/annotations/label_map.pbtxt\",\n",
        "                                                                    use_display_name=True)"
      ],
      "execution_count": null,
      "outputs": []
    },
    {
      "cell_type": "code",
      "metadata": {
        "id": "okOBfeWIvx9I"
      },
      "source": [
        "import numpy as np\n",
        "from PIL import Image\n",
        "import matplotlib.pyplot as plt\n",
        "import warnings\n",
        "warnings.filterwarnings('ignore')"
      ],
      "execution_count": null,
      "outputs": []
    },
    {
      "cell_type": "code",
      "metadata": {
        "id": "IQiufvC9kAWn",
        "outputId": "a6589a12-fd0a-420c-c69f-e72d5484d90e",
        "colab": {
          "base_uri": "https://localhost:8080/",
          "height": 34
        }
      },
      "source": [
        "image_np = np.array(Image.open(\"//content/workspace/training_demo/images/train/BloodImage_00010.jpg\"))\n",
        "\n",
        "# Things to try:\n",
        "# Flip horizontally\n",
        "    # image_np = np.fliplr(image_np).copy()\n",
        "\n",
        "    # Convert image to grayscale\n",
        "    # image_np = np.tile(\n",
        "    #     np.mean(image_np, 2, keepdims=True), (1, 1, 3)).astype(np.uint8)\n",
        "\n",
        "    # The input needs to be a tensor, convert it using `tf.convert_to_tensor`.\n",
        "input_tensor = tf.convert_to_tensor(image_np)\n",
        "    # The model expects a batch of images, so add an axis with `tf.newaxis`.\n",
        "input_tensor = input_tensor[tf.newaxis, ...]\n",
        "\n",
        "    # input_tensor = np.expand_dims(image_np, 0)\n",
        "detections = detect_fn(input_tensor)\n",
        "\n",
        "    # All outputs are batches tensors.\n",
        "    # Convert to numpy arrays, and take index [0] to remove the batch dimension.\n",
        "    # We're only interested in the first num_detections.\n",
        "num_detections = int(detections.pop('num_detections'))\n",
        "detections = {key: value[0, :num_detections].numpy()\n",
        "                   for key, value in detections.items()}\n",
        "detections['num_detections'] = num_detections\n",
        "\n",
        "    # detection_classes should be ints.\n",
        "detections['detection_classes'] = detections['detection_classes'].astype(np.int64)\n",
        "\n",
        "image_np_with_detections = image_np.copy()\n",
        "\n",
        "viz_utils.visualize_boxes_and_labels_on_image_array(\n",
        "      image_np_with_detections,\n",
        "      detections['detection_boxes'],\n",
        "      detections['detection_classes'],\n",
        "      detections['detection_scores'],\n",
        "      category_index,\n",
        "      use_normalized_coordinates=True,\n",
        "      max_boxes_to_draw=20,\n",
        "      min_score_thresh=.30,\n",
        "      agnostic_mode=False)\n",
        "\n",
        "\n",
        "print('Done')\n"
      ],
      "execution_count": null,
      "outputs": [
        {
          "output_type": "stream",
          "text": [
            "Done\n"
          ],
          "name": "stdout"
        }
      ]
    },
    {
      "cell_type": "code",
      "metadata": {
        "id": "UrmmQiNHBZ5A",
        "outputId": "a1cf94fa-9db7-43ed-d018-0bb7bdc5c816",
        "colab": {
          "base_uri": "https://localhost:8080/",
          "height": 337
        }
      },
      "source": [
        "Image.fromarray(image_np_with_detections)"
      ],
      "execution_count": null,
      "outputs": [
        {
          "output_type": "execute_result",
          "data": {
            "image/png": "[encoded data removed]",
            "text/plain": [
              "<PIL.Image.Image image mode=RGB size=320x320 at 0x7F1536ECCB38>"
            ]
          },
          "metadata": {
            "tags": []
          },
          "execution_count": 37
        }
      ]
    },
    {
      "cell_type": "code",
      "metadata": {
        "id": "sPuVyZZQBZ9d"
      },
      "source": [
        ""
      ],
      "execution_count": null,
      "outputs": []
    },
    {
      "cell_type": "code",
      "metadata": {
        "id": "a-dRokZNBZ3L"
      },
      "source": [
        "'''you can download your saved model by this code given below'''"
      ],
      "execution_count": 1,
      "outputs": []
    },
    {
      "cell_type": "code",
      "metadata": {
        "id": "MwmaAvQHj0Fh",
        "outputId": "b99c2135-01f3-4ea2-c0e4-75ae5c6e513a",
        "colab": {
          "base_uri": "https://localhost:8080/",
          "height": 34
        }
      },
      "source": [
        "%cd "
      ],
      "execution_count": null,
      "outputs": [
        {
          "output_type": "stream",
          "text": [
            "/root\n"
          ],
          "name": "stdout"
        }
      ]
    },
    {
      "cell_type": "code",
      "metadata": {
        "id": "IpkjTgBaM53y",
        "outputId": "e011c73f-f283-448d-e6c1-18aedfb0911f",
        "colab": {
          "base_uri": "https://localhost:8080/",
          "height": 218
        }
      },
      "source": [
        "from google.colab import files\n",
        "#For the folder you have to zip it first and can only download later on\n",
        "!zip -r my_model.zip '//content/workspace/training_demo/exported-model/my_model'\n",
        "#Download files\n",
        "files.download('my_model.zip')"
      ],
      "execution_count": null,
      "outputs": [
        {
          "output_type": "stream",
          "text": [
            "  adding: training_demo/exported-model/my_model/ (stored 0%)\n",
            "  adding: training_demo/exported-model/my_model/pipeline.config (deflated 68%)\n",
            "  adding: training_demo/exported-model/my_model/checkpoint/ (stored 0%)\n",
            "  adding: training_demo/exported-model/my_model/checkpoint/checkpoint (deflated 41%)\n",
            "  adding: training_demo/exported-model/my_model/checkpoint/ckpt-0.data-00000-of-00001 (deflated 7%)\n",
            "  adding: training_demo/exported-model/my_model/checkpoint/ckpt-0.index (deflated 78%)\n",
            "  adding: training_demo/exported-model/my_model/saved_model/ (stored 0%)\n",
            "  adding: training_demo/exported-model/my_model/saved_model/assets/ (stored 0%)\n",
            "  adding: training_demo/exported-model/my_model/saved_model/saved_model.pb (deflated 92%)\n",
            "  adding: training_demo/exported-model/my_model/saved_model/variables/ (stored 0%)\n",
            "  adding: training_demo/exported-model/my_model/saved_model/variables/variables.index (deflated 76%)\n",
            "  adding: training_demo/exported-model/my_model/saved_model/variables/variables.data-00000-of-00001 (deflated 7%)\n"
          ],
          "name": "stdout"
        },
        {
          "output_type": "display_data",
          "data": {
            "application/javascript": [
              "\n",
              "    async function download(id, filename, size) {\n",
              "      if (!google.colab.kernel.accessAllowed) {\n",
              "        return;\n",
              "      }\n",
              "      const div = document.createElement('div');\n",
              "      const label = document.createElement('label');\n",
              "      label.textContent = `Downloading \"${filename}\": `;\n",
              "      div.appendChild(label);\n",
              "      const progress = document.createElement('progress');\n",
              "      progress.max = size;\n",
              "      div.appendChild(progress);\n",
              "      document.body.appendChild(div);\n",
              "\n",
              "      const buffers = [];\n",
              "      let downloaded = 0;\n",
              "\n",
              "      const channel = await google.colab.kernel.comms.open(id);\n",
              "      // Send a message to notify the kernel that we're ready.\n",
              "      channel.send({})\n",
              "\n",
              "      for await (const message of channel.messages) {\n",
              "        // Send a message to notify the kernel that we're ready.\n",
              "        channel.send({})\n",
              "        if (message.buffers) {\n",
              "          for (const buffer of message.buffers) {\n",
              "            buffers.push(buffer);\n",
              "            downloaded += buffer.byteLength;\n",
              "            progress.value = downloaded;\n",
              "          }\n",
              "        }\n",
              "      }\n",
              "      const blob = new Blob(buffers, {type: 'application/binary'});\n",
              "      const a = document.createElement('a');\n",
              "      a.href = window.URL.createObjectURL(blob);\n",
              "      a.download = filename;\n",
              "      div.appendChild(a);\n",
              "      a.click();\n",
              "      div.remove();\n",
              "    }\n",
              "  "
            ],
            "text/plain": [
              "<IPython.core.display.Javascript object>"
            ]
          },
          "metadata": {
            "tags": []
          }
        },
        {
          "output_type": "display_data",
          "data": {
            "application/javascript": [
              "download(\"download_cc045035-1557-442a-89ca-7bb590483ccc\", \"my_model.zip\", 35592826)"
            ],
            "text/plain": [
              "<IPython.core.display.Javascript object>"
            ]
          },
          "metadata": {
            "tags": []
          }
        }
      ]
    },
    {
      "cell_type": "code",
      "metadata": {
        "id": "rTvBUB-2hpu2"
      },
      "source": [
        ""
      ],
      "execution_count": null,
      "outputs": []
    },
    {
      "cell_type": "code",
      "metadata": {
        "id": "Ws24u8YLjyhw"
      },
      "source": [
        ""
      ],
      "execution_count": null,
      "outputs": []
    },
    {
      "cell_type": "code",
      "metadata": {
        "id": "_B1leDAuiwGf"
      },
      "source": [
        ""
      ],
      "execution_count": null,
      "outputs": []
    }
  ]
}